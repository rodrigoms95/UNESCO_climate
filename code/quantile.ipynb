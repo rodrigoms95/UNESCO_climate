{
 "cells": [
  {
   "cell_type": "code",
   "execution_count": 1,
   "metadata": {},
   "outputs": [],
   "source": [
    "# Obtiene las variables climáticas, socioeconómicas y de gobernanza\n",
    "# y cálcula índices para cada categoría\n",
    "\n",
    "import numpy as np\n",
    "import pandas as pd\n",
    "\n",
    "from scipy import stats\n",
    "\n",
    "import plotly.express as px\n",
    "import plotly.graph_objects as go"
   ]
  },
  {
   "cell_type": "code",
   "execution_count": 2,
   "metadata": {},
   "outputs": [],
   "source": [
    "# Datos\n",
    "\n",
    "# Carpetas\n",
    "path_catalog = \"../../Bases_de_datos/Data_catalog.csv\"\n",
    "iso = \"../../Bases_de_datos/Country_ISO_code.csv\"\n",
    "path_v = \"../data/variables.csv\"\n",
    "\n",
    "# Código de país\n",
    "ix = \"alpha-3\"\n",
    "\n",
    "# Cargamos archivos y creamos copias de trabajo\n",
    "df_c = pd.read_csv(path_catalog)\n",
    "df_iso = pd.read_csv(iso).set_index(ix)\n",
    "data_0 = pd.DataFrame(index = df_iso.index)\n",
    "data_s   = data_0.copy()\n",
    "data_c   = data_0.copy()\n",
    "data_g   = data_0.copy()\n",
    "data_q_s = data_0.copy()\n",
    "data_q_c = data_0.copy()\n",
    "data_q_g = data_0.copy()\n",
    "df_v = pd.read_csv(path_v)"
   ]
  },
  {
   "cell_type": "code",
   "execution_count": 3,
   "metadata": {},
   "outputs": [
    {
     "data": {
      "text/html": [
       "<div>\n",
       "<style scoped>\n",
       "    .dataframe tbody tr th:only-of-type {\n",
       "        vertical-align: middle;\n",
       "    }\n",
       "\n",
       "    .dataframe tbody tr th {\n",
       "        vertical-align: top;\n",
       "    }\n",
       "\n",
       "    .dataframe thead th {\n",
       "        text-align: right;\n",
       "    }\n",
       "</style>\n",
       "<table border=\"1\" class=\"dataframe\">\n",
       "  <thead>\n",
       "    <tr style=\"text-align: right;\">\n",
       "      <th></th>\n",
       "      <th>200101</th>\n",
       "      <th>200144</th>\n",
       "      <th>200151</th>\n",
       "      <th>DT.TDS.DECT.GN.ZS</th>\n",
       "      <th>NY.GDP.PCAP.CD</th>\n",
       "      <th>SH.DYN.AIDS.ZS</th>\n",
       "      <th>SI.POV.LMIC</th>\n",
       "      <th>SP.DYN.LE00.IN</th>\n",
       "      <th>SP.DYN.TFRT.IN</th>\n",
       "      <th>SP.POP.GROW</th>\n",
       "      <th>...</th>\n",
       "      <th>ROFST.H.1.F</th>\n",
       "      <th>ROFST.H.1.Q1</th>\n",
       "      <th>ROFST.H.1.RUR</th>\n",
       "      <th>XGDP.FSGOV</th>\n",
       "      <th>POP_NETMIGR</th>\n",
       "      <th>Subnational HDI</th>\n",
       "      <th>Subnational GDI</th>\n",
       "      <th>Gini index</th>\n",
       "      <th>Mean</th>\n",
       "      <th>Count</th>\n",
       "    </tr>\n",
       "    <tr>\n",
       "      <th>alpha-3</th>\n",
       "      <th></th>\n",
       "      <th></th>\n",
       "      <th></th>\n",
       "      <th></th>\n",
       "      <th></th>\n",
       "      <th></th>\n",
       "      <th></th>\n",
       "      <th></th>\n",
       "      <th></th>\n",
       "      <th></th>\n",
       "      <th></th>\n",
       "      <th></th>\n",
       "      <th></th>\n",
       "      <th></th>\n",
       "      <th></th>\n",
       "      <th></th>\n",
       "      <th></th>\n",
       "      <th></th>\n",
       "      <th></th>\n",
       "      <th></th>\n",
       "      <th></th>\n",
       "    </tr>\n",
       "  </thead>\n",
       "  <tbody>\n",
       "    <tr>\n",
       "      <th>VAT</th>\n",
       "      <td>NaN</td>\n",
       "      <td>NaN</td>\n",
       "      <td>NaN</td>\n",
       "      <td>NaN</td>\n",
       "      <td>NaN</td>\n",
       "      <td>NaN</td>\n",
       "      <td>NaN</td>\n",
       "      <td>NaN</td>\n",
       "      <td>NaN</td>\n",
       "      <td>NaN</td>\n",
       "      <td>...</td>\n",
       "      <td>NaN</td>\n",
       "      <td>NaN</td>\n",
       "      <td>NaN</td>\n",
       "      <td>0.048780</td>\n",
       "      <td>NaN</td>\n",
       "      <td>NaN</td>\n",
       "      <td>NaN</td>\n",
       "      <td>NaN</td>\n",
       "      <td>0.048780</td>\n",
       "      <td>1</td>\n",
       "    </tr>\n",
       "    <tr>\n",
       "      <th>SSD</th>\n",
       "      <td>3.605150</td>\n",
       "      <td>9.656652</td>\n",
       "      <td>8.841202</td>\n",
       "      <td>NaN</td>\n",
       "      <td>1.179245</td>\n",
       "      <td>1.276596</td>\n",
       "      <td>0.361446</td>\n",
       "      <td>9.761905</td>\n",
       "      <td>0.758294</td>\n",
       "      <td>2.976744</td>\n",
       "      <td>...</td>\n",
       "      <td>0.000000</td>\n",
       "      <td>0.00</td>\n",
       "      <td>0.000000</td>\n",
       "      <td>0.341463</td>\n",
       "      <td>2.046512</td>\n",
       "      <td>0.107527</td>\n",
       "      <td>0.535714</td>\n",
       "      <td>1.497006</td>\n",
       "      <td>2.256625</td>\n",
       "      <td>22</td>\n",
       "    </tr>\n",
       "    <tr>\n",
       "      <th>AGO</th>\n",
       "      <td>1.716738</td>\n",
       "      <td>7.725322</td>\n",
       "      <td>9.227468</td>\n",
       "      <td>0.583333</td>\n",
       "      <td>2.688679</td>\n",
       "      <td>1.702128</td>\n",
       "      <td>1.987952</td>\n",
       "      <td>8.714286</td>\n",
       "      <td>0.284360</td>\n",
       "      <td>0.279070</td>\n",
       "      <td>...</td>\n",
       "      <td>1.732283</td>\n",
       "      <td>1.84</td>\n",
       "      <td>0.967742</td>\n",
       "      <td>1.365854</td>\n",
       "      <td>2.186047</td>\n",
       "      <td>2.419355</td>\n",
       "      <td>2.172619</td>\n",
       "      <td>0.479042</td>\n",
       "      <td>2.334673</td>\n",
       "      <td>24</td>\n",
       "    </tr>\n",
       "    <tr>\n",
       "      <th>TCD</th>\n",
       "      <td>2.832618</td>\n",
       "      <td>8.412017</td>\n",
       "      <td>9.785408</td>\n",
       "      <td>8.000000</td>\n",
       "      <td>0.660377</td>\n",
       "      <td>2.411348</td>\n",
       "      <td>1.084337</td>\n",
       "      <td>9.952381</td>\n",
       "      <td>0.094787</td>\n",
       "      <td>0.232558</td>\n",
       "      <td>...</td>\n",
       "      <td>0.157480</td>\n",
       "      <td>0.08</td>\n",
       "      <td>0.161290</td>\n",
       "      <td>1.658537</td>\n",
       "      <td>4.674419</td>\n",
       "      <td>0.161290</td>\n",
       "      <td>0.178571</td>\n",
       "      <td>4.161677</td>\n",
       "      <td>2.396878</td>\n",
       "      <td>25</td>\n",
       "    </tr>\n",
       "    <tr>\n",
       "      <th>PNG</th>\n",
       "      <td>3.948498</td>\n",
       "      <td>8.025751</td>\n",
       "      <td>8.326180</td>\n",
       "      <td>0.750000</td>\n",
       "      <td>2.783019</td>\n",
       "      <td>2.836879</td>\n",
       "      <td>0.963855</td>\n",
       "      <td>7.714286</td>\n",
       "      <td>2.511848</td>\n",
       "      <td>2.232558</td>\n",
       "      <td>...</td>\n",
       "      <td>0.944882</td>\n",
       "      <td>1.04</td>\n",
       "      <td>1.532258</td>\n",
       "      <td>0.536585</td>\n",
       "      <td>4.093023</td>\n",
       "      <td>1.962366</td>\n",
       "      <td>2.440476</td>\n",
       "      <td>2.215569</td>\n",
       "      <td>2.524022</td>\n",
       "      <td>25</td>\n",
       "    </tr>\n",
       "    <tr>\n",
       "      <th>...</th>\n",
       "      <td>...</td>\n",
       "      <td>...</td>\n",
       "      <td>...</td>\n",
       "      <td>...</td>\n",
       "      <td>...</td>\n",
       "      <td>...</td>\n",
       "      <td>...</td>\n",
       "      <td>...</td>\n",
       "      <td>...</td>\n",
       "      <td>...</td>\n",
       "      <td>...</td>\n",
       "      <td>...</td>\n",
       "      <td>...</td>\n",
       "      <td>...</td>\n",
       "      <td>...</td>\n",
       "      <td>...</td>\n",
       "      <td>...</td>\n",
       "      <td>...</td>\n",
       "      <td>...</td>\n",
       "      <td>...</td>\n",
       "      <td>...</td>\n",
       "    </tr>\n",
       "    <tr>\n",
       "      <th>SXM</th>\n",
       "      <td>9.055794</td>\n",
       "      <td>9.785408</td>\n",
       "      <td>3.905579</td>\n",
       "      <td>NaN</td>\n",
       "      <td>8.301887</td>\n",
       "      <td>NaN</td>\n",
       "      <td>NaN</td>\n",
       "      <td>3.904762</td>\n",
       "      <td>7.345972</td>\n",
       "      <td>3.627907</td>\n",
       "      <td>...</td>\n",
       "      <td>NaN</td>\n",
       "      <td>NaN</td>\n",
       "      <td>NaN</td>\n",
       "      <td>NaN</td>\n",
       "      <td>8.813953</td>\n",
       "      <td>NaN</td>\n",
       "      <td>NaN</td>\n",
       "      <td>NaN</td>\n",
       "      <td>7.164917</td>\n",
       "      <td>9</td>\n",
       "    </tr>\n",
       "    <tr>\n",
       "      <th>PLW</th>\n",
       "      <td>9.442060</td>\n",
       "      <td>4.120172</td>\n",
       "      <td>4.420601</td>\n",
       "      <td>NaN</td>\n",
       "      <td>6.037736</td>\n",
       "      <td>NaN</td>\n",
       "      <td>NaN</td>\n",
       "      <td>6.857143</td>\n",
       "      <td>9.857820</td>\n",
       "      <td>7.627907</td>\n",
       "      <td>...</td>\n",
       "      <td>NaN</td>\n",
       "      <td>NaN</td>\n",
       "      <td>NaN</td>\n",
       "      <td>9.463415</td>\n",
       "      <td>9.813953</td>\n",
       "      <td>NaN</td>\n",
       "      <td>NaN</td>\n",
       "      <td>NaN</td>\n",
       "      <td>7.192006</td>\n",
       "      <td>12</td>\n",
       "    </tr>\n",
       "    <tr>\n",
       "      <th>ISL</th>\n",
       "      <td>7.596567</td>\n",
       "      <td>3.175966</td>\n",
       "      <td>2.703863</td>\n",
       "      <td>NaN</td>\n",
       "      <td>9.433962</td>\n",
       "      <td>8.758865</td>\n",
       "      <td>9.728916</td>\n",
       "      <td>0.571429</td>\n",
       "      <td>5.687204</td>\n",
       "      <td>1.069767</td>\n",
       "      <td>...</td>\n",
       "      <td>NaN</td>\n",
       "      <td>NaN</td>\n",
       "      <td>NaN</td>\n",
       "      <td>9.317073</td>\n",
       "      <td>8.000000</td>\n",
       "      <td>9.892473</td>\n",
       "      <td>6.011905</td>\n",
       "      <td>9.520958</td>\n",
       "      <td>7.242548</td>\n",
       "      <td>19</td>\n",
       "    </tr>\n",
       "    <tr>\n",
       "      <th>MSR</th>\n",
       "      <td>9.828326</td>\n",
       "      <td>4.592275</td>\n",
       "      <td>1.845494</td>\n",
       "      <td>NaN</td>\n",
       "      <td>NaN</td>\n",
       "      <td>NaN</td>\n",
       "      <td>NaN</td>\n",
       "      <td>NaN</td>\n",
       "      <td>NaN</td>\n",
       "      <td>NaN</td>\n",
       "      <td>...</td>\n",
       "      <td>NaN</td>\n",
       "      <td>NaN</td>\n",
       "      <td>NaN</td>\n",
       "      <td>9.512195</td>\n",
       "      <td>9.418605</td>\n",
       "      <td>NaN</td>\n",
       "      <td>NaN</td>\n",
       "      <td>NaN</td>\n",
       "      <td>7.270911</td>\n",
       "      <td>7</td>\n",
       "    </tr>\n",
       "    <tr>\n",
       "      <th>MYT</th>\n",
       "      <td>7.682403</td>\n",
       "      <td>6.523605</td>\n",
       "      <td>8.884120</td>\n",
       "      <td>NaN</td>\n",
       "      <td>NaN</td>\n",
       "      <td>NaN</td>\n",
       "      <td>NaN</td>\n",
       "      <td>NaN</td>\n",
       "      <td>NaN</td>\n",
       "      <td>NaN</td>\n",
       "      <td>...</td>\n",
       "      <td>NaN</td>\n",
       "      <td>NaN</td>\n",
       "      <td>NaN</td>\n",
       "      <td>NaN</td>\n",
       "      <td>7.767442</td>\n",
       "      <td>NaN</td>\n",
       "      <td>NaN</td>\n",
       "      <td>NaN</td>\n",
       "      <td>7.714393</td>\n",
       "      <td>4</td>\n",
       "    </tr>\n",
       "  </tbody>\n",
       "</table>\n",
       "<p>234 rows × 27 columns</p>\n",
       "</div>"
      ],
      "text/plain": [
       "           200101    200144    200151  DT.TDS.DECT.GN.ZS  NY.GDP.PCAP.CD  \\\n",
       "alpha-3                                                                    \n",
       "VAT           NaN       NaN       NaN                NaN             NaN   \n",
       "SSD      3.605150  9.656652  8.841202                NaN        1.179245   \n",
       "AGO      1.716738  7.725322  9.227468           0.583333        2.688679   \n",
       "TCD      2.832618  8.412017  9.785408           8.000000        0.660377   \n",
       "PNG      3.948498  8.025751  8.326180           0.750000        2.783019   \n",
       "...           ...       ...       ...                ...             ...   \n",
       "SXM      9.055794  9.785408  3.905579                NaN        8.301887   \n",
       "PLW      9.442060  4.120172  4.420601                NaN        6.037736   \n",
       "ISL      7.596567  3.175966  2.703863                NaN        9.433962   \n",
       "MSR      9.828326  4.592275  1.845494                NaN             NaN   \n",
       "MYT      7.682403  6.523605  8.884120                NaN             NaN   \n",
       "\n",
       "         SH.DYN.AIDS.ZS  SI.POV.LMIC  SP.DYN.LE00.IN  SP.DYN.TFRT.IN  \\\n",
       "alpha-3                                                                \n",
       "VAT                 NaN          NaN             NaN             NaN   \n",
       "SSD            1.276596     0.361446        9.761905        0.758294   \n",
       "AGO            1.702128     1.987952        8.714286        0.284360   \n",
       "TCD            2.411348     1.084337        9.952381        0.094787   \n",
       "PNG            2.836879     0.963855        7.714286        2.511848   \n",
       "...                 ...          ...             ...             ...   \n",
       "SXM                 NaN          NaN        3.904762        7.345972   \n",
       "PLW                 NaN          NaN        6.857143        9.857820   \n",
       "ISL            8.758865     9.728916        0.571429        5.687204   \n",
       "MSR                 NaN          NaN             NaN             NaN   \n",
       "MYT                 NaN          NaN             NaN             NaN   \n",
       "\n",
       "         SP.POP.GROW  ...  ROFST.H.1.F  ROFST.H.1.Q1  ROFST.H.1.RUR  \\\n",
       "alpha-3               ...                                             \n",
       "VAT              NaN  ...          NaN           NaN            NaN   \n",
       "SSD         2.976744  ...     0.000000          0.00       0.000000   \n",
       "AGO         0.279070  ...     1.732283          1.84       0.967742   \n",
       "TCD         0.232558  ...     0.157480          0.08       0.161290   \n",
       "PNG         2.232558  ...     0.944882          1.04       1.532258   \n",
       "...              ...  ...          ...           ...            ...   \n",
       "SXM         3.627907  ...          NaN           NaN            NaN   \n",
       "PLW         7.627907  ...          NaN           NaN            NaN   \n",
       "ISL         1.069767  ...          NaN           NaN            NaN   \n",
       "MSR              NaN  ...          NaN           NaN            NaN   \n",
       "MYT              NaN  ...          NaN           NaN            NaN   \n",
       "\n",
       "         XGDP.FSGOV  POP_NETMIGR  Subnational HDI  Subnational GDI  \\\n",
       "alpha-3                                                              \n",
       "VAT        0.048780          NaN              NaN              NaN   \n",
       "SSD        0.341463     2.046512         0.107527         0.535714   \n",
       "AGO        1.365854     2.186047         2.419355         2.172619   \n",
       "TCD        1.658537     4.674419         0.161290         0.178571   \n",
       "PNG        0.536585     4.093023         1.962366         2.440476   \n",
       "...             ...          ...              ...              ...   \n",
       "SXM             NaN     8.813953              NaN              NaN   \n",
       "PLW        9.463415     9.813953              NaN              NaN   \n",
       "ISL        9.317073     8.000000         9.892473         6.011905   \n",
       "MSR        9.512195     9.418605              NaN              NaN   \n",
       "MYT             NaN     7.767442              NaN              NaN   \n",
       "\n",
       "         Gini index      Mean  Count  \n",
       "alpha-3                               \n",
       "VAT             NaN  0.048780      1  \n",
       "SSD        1.497006  2.256625     22  \n",
       "AGO        0.479042  2.334673     24  \n",
       "TCD        4.161677  2.396878     25  \n",
       "PNG        2.215569  2.524022     25  \n",
       "...             ...       ...    ...  \n",
       "SXM             NaN  7.164917      9  \n",
       "PLW             NaN  7.192006     12  \n",
       "ISL        9.520958  7.242548     19  \n",
       "MSR             NaN  7.270911      7  \n",
       "MYT             NaN  7.714393      4  \n",
       "\n",
       "[234 rows x 27 columns]"
      ]
     },
     "execution_count": 3,
     "metadata": {},
     "output_type": "execute_result"
    }
   ],
   "source": [
    "# Carga la variable y calcula el índice\n",
    "\n",
    "deciles_n = [ f\"../results/Deciles_{x}.csv\" \n",
    "    for x in df_v[\"Category\"].unique() ]\n",
    "values_n  = [ f\"../results/Values_{x}.csv\" \n",
    "    for x in df_v[\"Category\"].unique() ]\n",
    "\n",
    "# Iteramos para socioeconómico, climático, y de gobernanza\n",
    "for cat in df_v[\"Category\"].unique():\n",
    "    data   = data_0.copy()\n",
    "    data_q = data_0.copy()\n",
    "\n",
    "    # Para cada variable de la categoría\n",
    "    for row in df_v[ (df_v[\"Category\"] == cat) ].itertuples():\n",
    "\n",
    "        v = row.Variable\n",
    "        # Para datos del Banco mundial hay que quitar filas al csv\n",
    "        if row.Origin == \"World Bank\": nr = 3\n",
    "        else: nr = 0\n",
    "        \n",
    "        # Cargamos el archivo\n",
    "        df = pd.read_csv( \"../../\"\n",
    "            + df_c.loc[df_c[\"ID\"]==row.ID, \"Path\"].iloc[0]\n",
    "            + df_c.loc[df_c[\"ID\"]==row.ID, \"Filename\" ].iloc[0],\n",
    "            skiprows = nr, low_memory = False )\n",
    "        \n",
    "        # Procesamiento de datos de la OCDE\n",
    "        if row.Origin == \"OECD\":\n",
    "            # Se escoge la variable\n",
    "            df = df[ df[\"MEASURE\"] == v ]\n",
    "            df = df.rename(columns = {\"REF_AREA\": ix})\n",
    "            df = df[ df[ix].isin(df_iso.index) ]\n",
    "            df_i = df[ (df[\"MEASURE\"]==v) ]\n",
    "            \n",
    "            # Se escogen los datos específicos para cada variable\n",
    "            if v == \"POP_NETMIGR\":\n",
    "                df_i[\"OBS_VALUE\"] = np.abs( df_i[\"OBS_VALUE\"] )\n",
    "            elif v in [\"HD_POP_EXP\", \"HD_TN_POP_EXP\", \"ID_POP_EXP\",\n",
    "                \"99PT_LAND_EXP\", \"99PT_CROP_EXP\", \"EP_LAND_EXP\"]:\n",
    "                df_i = df_i[ (df_i[\"DURATION\"]==row.DURATION) ]\n",
    "            elif v in [\"TEMP_CHANGE\", \"ED_CROP_ANOM\", \"EP_CHANGE\"]:\n",
    "                df_i = df_i.set_index(ix)\n",
    "                df_i[\"OBS_VALUE\"] = df_i.reset_index()[\n",
    "                    [ix, \"OBS_VALUE\"] ].groupby(ix).mean()\n",
    "                df_i = df_i.reset_index()\n",
    "            elif v == \"UTCI_POP_EXP\":\n",
    "                df_i = df_i[ (df_i[\"HEAT_STRESS\"]==row.HEAT_STRESS) ]\n",
    "            elif v in [\"CF_BUILT_EXP\", \"CF_POP_EXP\", \"CF_CROP_EXP\",\n",
    "                \"RF_BUILT_EXP\", \"RF_POP_EXP\", \"RF_CROP_EXP\"]:\n",
    "                df_i = df_i[ (df_i[\"RET_PERIOD\"]==row.RET_PERIOD) ]\n",
    "            elif v == \"BURN_LAND_AREA\":\n",
    "                df_i = df_i[ (df_i[\"UNIT_MEASURE\"]==row.UNIT_MEASURE) ]\n",
    "            elif v in [\"CY_BUILT_EXP\", \"CY_POP_EXP\"]:\n",
    "                df_i = df_i[\n",
    "                    (df[\"HURRICANE_WIND_SCALE\"]==row.HURRICANE_WIND_SCALE) ]\n",
    "            elif v == \"POP_EXP_POL\":\n",
    "                df_i = df_i[ (df_i[\"EXPOSURE_LEVEL\"]==row.EXPOSURE_LEVEL) ]\n",
    "            elif v == \"ECRATE\":\n",
    "                df_i = df_i[ (df_i[\"SECTOR\"]==row.SECTOR)\n",
    "                & (df[\"EMISSIONS_SOURCE\"]==row.EMISSIONS_SOURCE) ]\n",
    "            elif v in [\"GPAT_DE\", \"WATER_FW\"]:\n",
    "                df_i = df_i[ (df_i[\"UNIT_MEASURE\"]==row.UNIT_MEASURE) ]\n",
    "            \n",
    "            # Escogemos solo el dato más reciente\n",
    "            ''' Analizar el calcular una climatología '''\n",
    "            data[v] = df_i.sort_values( [ix, \"TIME_PERIOD\"]\n",
    "                ).drop_duplicates(ix, keep=\"last\").set_index(ix)[\"OBS_VALUE\"]\n",
    "\n",
    "        # Procesamiento de datos de Global Data Lab\n",
    "        elif row.Origin == \"Global Data Lab\":\n",
    "            df = df.rename(columns = {\"ISO_Code\": ix})\n",
    "            df = df[ df[ix].isin(df_iso.index) ]\n",
    "            data[v] = df[ df[\"Level\"] == \"National\" ].set_index(ix)[v]\n",
    "        \n",
    "        # Procesamiento de datos del Banco Mundial\n",
    "        elif row.Origin == \"World Bank\":\n",
    "            df = df.rename(columns = {\"Country Code\": ix})\n",
    "            df = df[ df[ix].isin(df_iso.index) ]\n",
    "            data[v] = df.set_index(ix).iloc[ :, 4:-1\n",
    "                ].ffill(axis = 1).iloc[:, -1]\n",
    "        \n",
    "        # Procesamiento de datos de la UNESCO\n",
    "        elif row.Origin == \"UNESCO UIS\":\n",
    "            if row.ID in [\"DEM\", \"SCN-SDG\", \"SDG11\"]:\n",
    "                df.columns = [ x.lower() for x in df.columns ]\n",
    "            df = df.rename(columns = {\"country_id\": ix})\n",
    "            df = df[ df[ix].isin(df_iso.index) ]\n",
    "            if row.PERCENTAGE == \"Yes\": pop = data[\"200101\"]\n",
    "            else: pop = 1\n",
    "            data[v] = ( df[ df[\"indicator_id\"]==v ].sort_values( [ix, \"year\"]\n",
    "                ).drop_duplicates(ix, keep=\"last\"\n",
    "                ).set_index(ix)[\"value\"] / pop )\n",
    "        \n",
    "        # El índice se calcula como el percentile of score\n",
    "        ''' Revisar como va a funcionar para proyecciones futuras '''\n",
    "        data_q[v] = stats.percentileofscore(\n",
    "            data[v], data[v], nan_policy = \"omit\" ) / 10\n",
    "        # Se ajusta el índice para que más siempre sea mejor\n",
    "        if row.Negative_indicator:\n",
    "            data_q[v] = 10 - data_q[v]\n",
    "\n",
    "    # Calculamos el promedio y la cantidad de datos para cada categoría\n",
    "    data_q[\"Mean\"] = data_q.mean(axis = 1)\n",
    "    data_q[\"Count\"] = data_q.count(axis = 1) - 1\n",
    "    # Escogemos solo los países que sí tengan datos\n",
    "    data_q = data_q[ data_q[\"Count\"] > 0 ].sort_values(\"Mean\")\n",
    "\n",
    "    # Asignamos los valores a la tabla de cada categoría\n",
    "    if   cat == df_v[\"Category\"].unique()[0]:\n",
    "        data_q_s = data_q.copy()\n",
    "        data_s   = data.copy()\n",
    "        data_q_s.to_csv(deciles_n[0], index = True)\n",
    "        data_s.to_csv(values_n[0], index = True)\n",
    "    elif cat == df_v[\"Category\"].unique()[1]:\n",
    "        data_q_c = data_q.copy()\n",
    "        data_c   = data.copy()\n",
    "        data_q_c.to_csv(deciles_n[1], index = True)\n",
    "        data_c.to_csv(values_n[1], index = True)\n",
    "    elif cat == df_v[\"Category\"].unique()[2]:\n",
    "        data_q_g = data_q.copy()\n",
    "        data_g   = data.copy()\n",
    "        data_q_g.to_csv(deciles_n[2], index = True)\n",
    "        data_g.to_csv(values_n[2], index = True)\n",
    "\n",
    "data_q_s"
   ]
  },
  {
   "cell_type": "code",
   "execution_count": 4,
   "metadata": {},
   "outputs": [
    {
     "data": {
      "text/html": [
       "<div>\n",
       "<style scoped>\n",
       "    .dataframe tbody tr th:only-of-type {\n",
       "        vertical-align: middle;\n",
       "    }\n",
       "\n",
       "    .dataframe tbody tr th {\n",
       "        vertical-align: top;\n",
       "    }\n",
       "\n",
       "    .dataframe thead th {\n",
       "        text-align: right;\n",
       "    }\n",
       "</style>\n",
       "<table border=\"1\" class=\"dataframe\">\n",
       "  <thead>\n",
       "    <tr style=\"text-align: right;\">\n",
       "      <th></th>\n",
       "      <th>name</th>\n",
       "      <th>Net Zero Rating</th>\n",
       "      <th>alpha-2</th>\n",
       "      <th>Socioeconomic resilience</th>\n",
       "      <th>Climate resilience</th>\n",
       "      <th>Governance resilience</th>\n",
       "    </tr>\n",
       "    <tr>\n",
       "      <th>alpha-3</th>\n",
       "      <th></th>\n",
       "      <th></th>\n",
       "      <th></th>\n",
       "      <th></th>\n",
       "      <th></th>\n",
       "      <th></th>\n",
       "    </tr>\n",
       "  </thead>\n",
       "  <tbody>\n",
       "    <tr>\n",
       "      <th>ARG</th>\n",
       "      <td>Argentina</td>\n",
       "      <td>Poor</td>\n",
       "      <td>AR</td>\n",
       "      <td>5.355912</td>\n",
       "      <td>3.699203</td>\n",
       "      <td>5.357407</td>\n",
       "    </tr>\n",
       "    <tr>\n",
       "      <th>AUS</th>\n",
       "      <td>Australia</td>\n",
       "      <td>Poor</td>\n",
       "      <td>AU</td>\n",
       "      <td>6.173538</td>\n",
       "      <td>4.323282</td>\n",
       "      <td>5.009759</td>\n",
       "    </tr>\n",
       "    <tr>\n",
       "      <th>BTN</th>\n",
       "      <td>Bhutan</td>\n",
       "      <td>Information incomplete</td>\n",
       "      <td>BT</td>\n",
       "      <td>5.707487</td>\n",
       "      <td>4.988717</td>\n",
       "      <td>3.606019</td>\n",
       "    </tr>\n",
       "    <tr>\n",
       "      <th>BRA</th>\n",
       "      <td>Brazil</td>\n",
       "      <td>Information incomplete</td>\n",
       "      <td>BR</td>\n",
       "      <td>5.530113</td>\n",
       "      <td>4.236506</td>\n",
       "      <td>5.641233</td>\n",
       "    </tr>\n",
       "    <tr>\n",
       "      <th>CAN</th>\n",
       "      <td>Canada</td>\n",
       "      <td>Average</td>\n",
       "      <td>CA</td>\n",
       "      <td>5.882945</td>\n",
       "      <td>4.285114</td>\n",
       "      <td>4.982974</td>\n",
       "    </tr>\n",
       "    <tr>\n",
       "      <th>CHL</th>\n",
       "      <td>Chile</td>\n",
       "      <td>Acceptable</td>\n",
       "      <td>CL</td>\n",
       "      <td>5.672913</td>\n",
       "      <td>4.506615</td>\n",
       "      <td>5.887933</td>\n",
       "    </tr>\n",
       "    <tr>\n",
       "      <th>CHN</th>\n",
       "      <td>China</td>\n",
       "      <td>Poor</td>\n",
       "      <td>CN</td>\n",
       "      <td>4.689794</td>\n",
       "      <td>3.093866</td>\n",
       "      <td>4.745535</td>\n",
       "    </tr>\n",
       "    <tr>\n",
       "      <th>COL</th>\n",
       "      <td>Colombia</td>\n",
       "      <td>Acceptable</td>\n",
       "      <td>CO</td>\n",
       "      <td>4.391096</td>\n",
       "      <td>4.593764</td>\n",
       "      <td>5.883822</td>\n",
       "    </tr>\n",
       "    <tr>\n",
       "      <th>CRI</th>\n",
       "      <td>Costa Rica</td>\n",
       "      <td>Acceptable</td>\n",
       "      <td>CR</td>\n",
       "      <td>6.263940</td>\n",
       "      <td>5.403217</td>\n",
       "      <td>5.182518</td>\n",
       "    </tr>\n",
       "    <tr>\n",
       "      <th>ETH</th>\n",
       "      <td>Ethiopia</td>\n",
       "      <td>Information incomplete</td>\n",
       "      <td>ET</td>\n",
       "      <td>2.821925</td>\n",
       "      <td>4.321775</td>\n",
       "      <td>5.967991</td>\n",
       "    </tr>\n",
       "    <tr>\n",
       "      <th>GMB</th>\n",
       "      <td>Gambia</td>\n",
       "      <td>Poor</td>\n",
       "      <td>GM</td>\n",
       "      <td>3.545838</td>\n",
       "      <td>3.549093</td>\n",
       "      <td>4.014866</td>\n",
       "    </tr>\n",
       "    <tr>\n",
       "      <th>DEU</th>\n",
       "      <td>Germany</td>\n",
       "      <td>Average</td>\n",
       "      <td>DE</td>\n",
       "      <td>5.877216</td>\n",
       "      <td>4.282672</td>\n",
       "      <td>5.406252</td>\n",
       "    </tr>\n",
       "    <tr>\n",
       "      <th>IND</th>\n",
       "      <td>India</td>\n",
       "      <td>Poor</td>\n",
       "      <td>IN</td>\n",
       "      <td>4.375650</td>\n",
       "      <td>2.566768</td>\n",
       "      <td>5.338177</td>\n",
       "    </tr>\n",
       "    <tr>\n",
       "      <th>IDN</th>\n",
       "      <td>Indonesia</td>\n",
       "      <td>Information incomplete</td>\n",
       "      <td>ID</td>\n",
       "      <td>4.907918</td>\n",
       "      <td>4.083386</td>\n",
       "      <td>5.685979</td>\n",
       "    </tr>\n",
       "    <tr>\n",
       "      <th>JPN</th>\n",
       "      <td>Japan</td>\n",
       "      <td>Poor</td>\n",
       "      <td>JP</td>\n",
       "      <td>5.971476</td>\n",
       "      <td>3.903243</td>\n",
       "      <td>4.484440</td>\n",
       "    </tr>\n",
       "    <tr>\n",
       "      <th>KAZ</th>\n",
       "      <td>Kazakhstan</td>\n",
       "      <td>Poor</td>\n",
       "      <td>KZ</td>\n",
       "      <td>6.255852</td>\n",
       "      <td>3.780391</td>\n",
       "      <td>4.199033</td>\n",
       "    </tr>\n",
       "    <tr>\n",
       "      <th>KOR</th>\n",
       "      <td>Korea, Republic of</td>\n",
       "      <td>Average</td>\n",
       "      <td>KR</td>\n",
       "      <td>6.220258</td>\n",
       "      <td>4.227843</td>\n",
       "      <td>4.672967</td>\n",
       "    </tr>\n",
       "    <tr>\n",
       "      <th>MAR</th>\n",
       "      <td>Morocco</td>\n",
       "      <td>Information incomplete</td>\n",
       "      <td>MA</td>\n",
       "      <td>4.052477</td>\n",
       "      <td>4.563275</td>\n",
       "      <td>6.313593</td>\n",
       "    </tr>\n",
       "    <tr>\n",
       "      <th>NPL</th>\n",
       "      <td>Nepal</td>\n",
       "      <td>Average</td>\n",
       "      <td>NP</td>\n",
       "      <td>4.434028</td>\n",
       "      <td>3.204687</td>\n",
       "      <td>4.699736</td>\n",
       "    </tr>\n",
       "    <tr>\n",
       "      <th>NZL</th>\n",
       "      <td>New Zealand</td>\n",
       "      <td>Poor</td>\n",
       "      <td>NZ</td>\n",
       "      <td>6.571233</td>\n",
       "      <td>4.928271</td>\n",
       "      <td>5.555424</td>\n",
       "    </tr>\n",
       "    <tr>\n",
       "      <th>NGA</th>\n",
       "      <td>Nigeria</td>\n",
       "      <td>Average</td>\n",
       "      <td>NG</td>\n",
       "      <td>2.917088</td>\n",
       "      <td>3.892589</td>\n",
       "      <td>4.827925</td>\n",
       "    </tr>\n",
       "    <tr>\n",
       "      <th>PER</th>\n",
       "      <td>Peru</td>\n",
       "      <td>Information incomplete</td>\n",
       "      <td>PE</td>\n",
       "      <td>5.362886</td>\n",
       "      <td>4.980904</td>\n",
       "      <td>4.956990</td>\n",
       "    </tr>\n",
       "    <tr>\n",
       "      <th>RUS</th>\n",
       "      <td>Russian Federation</td>\n",
       "      <td>Poor</td>\n",
       "      <td>RU</td>\n",
       "      <td>6.381389</td>\n",
       "      <td>4.333799</td>\n",
       "      <td>4.780743</td>\n",
       "    </tr>\n",
       "    <tr>\n",
       "      <th>SAU</th>\n",
       "      <td>Saudi Arabia</td>\n",
       "      <td>Poor</td>\n",
       "      <td>SA</td>\n",
       "      <td>5.454527</td>\n",
       "      <td>4.270091</td>\n",
       "      <td>4.133350</td>\n",
       "    </tr>\n",
       "    <tr>\n",
       "      <th>SGP</th>\n",
       "      <td>Singapore</td>\n",
       "      <td>Poor</td>\n",
       "      <td>SG</td>\n",
       "      <td>5.915468</td>\n",
       "      <td>6.108335</td>\n",
       "      <td>3.640272</td>\n",
       "    </tr>\n",
       "    <tr>\n",
       "      <th>ZAF</th>\n",
       "      <td>South Africa</td>\n",
       "      <td>Information incomplete</td>\n",
       "      <td>ZA</td>\n",
       "      <td>4.751519</td>\n",
       "      <td>4.835557</td>\n",
       "      <td>4.569033</td>\n",
       "    </tr>\n",
       "    <tr>\n",
       "      <th>CHE</th>\n",
       "      <td>Switzerland</td>\n",
       "      <td>Average</td>\n",
       "      <td>CH</td>\n",
       "      <td>6.435005</td>\n",
       "      <td>4.728579</td>\n",
       "      <td>5.550614</td>\n",
       "    </tr>\n",
       "    <tr>\n",
       "      <th>THA</th>\n",
       "      <td>Thailand</td>\n",
       "      <td>Average</td>\n",
       "      <td>TH</td>\n",
       "      <td>5.239967</td>\n",
       "      <td>3.278491</td>\n",
       "      <td>5.201874</td>\n",
       "    </tr>\n",
       "    <tr>\n",
       "      <th>TUR</th>\n",
       "      <td>Türkiye</td>\n",
       "      <td>Poor</td>\n",
       "      <td>TR</td>\n",
       "      <td>4.723314</td>\n",
       "      <td>3.742777</td>\n",
       "      <td>5.114939</td>\n",
       "    </tr>\n",
       "    <tr>\n",
       "      <th>ARE</th>\n",
       "      <td>United Arab Emirates</td>\n",
       "      <td>Poor</td>\n",
       "      <td>AE</td>\n",
       "      <td>6.905295</td>\n",
       "      <td>4.331421</td>\n",
       "      <td>3.458431</td>\n",
       "    </tr>\n",
       "    <tr>\n",
       "      <th>GBR</th>\n",
       "      <td>United Kingdom of Great Britain and Northern I...</td>\n",
       "      <td>Acceptable</td>\n",
       "      <td>GB</td>\n",
       "      <td>6.424171</td>\n",
       "      <td>4.446186</td>\n",
       "      <td>5.948352</td>\n",
       "    </tr>\n",
       "    <tr>\n",
       "      <th>USA</th>\n",
       "      <td>United States of America</td>\n",
       "      <td>Average</td>\n",
       "      <td>US</td>\n",
       "      <td>6.124616</td>\n",
       "      <td>3.934720</td>\n",
       "      <td>4.145763</td>\n",
       "    </tr>\n",
       "    <tr>\n",
       "      <th>VNM</th>\n",
       "      <td>Viet Nam</td>\n",
       "      <td>Average</td>\n",
       "      <td>VN</td>\n",
       "      <td>5.073895</td>\n",
       "      <td>3.202816</td>\n",
       "      <td>4.986185</td>\n",
       "    </tr>\n",
       "  </tbody>\n",
       "</table>\n",
       "</div>"
      ],
      "text/plain": [
       "                                                      name  \\\n",
       "alpha-3                                                      \n",
       "ARG                                              Argentina   \n",
       "AUS                                              Australia   \n",
       "BTN                                                 Bhutan   \n",
       "BRA                                                 Brazil   \n",
       "CAN                                                 Canada   \n",
       "CHL                                                  Chile   \n",
       "CHN                                                  China   \n",
       "COL                                               Colombia   \n",
       "CRI                                             Costa Rica   \n",
       "ETH                                               Ethiopia   \n",
       "GMB                                                 Gambia   \n",
       "DEU                                                Germany   \n",
       "IND                                                  India   \n",
       "IDN                                              Indonesia   \n",
       "JPN                                                  Japan   \n",
       "KAZ                                             Kazakhstan   \n",
       "KOR                                     Korea, Republic of   \n",
       "MAR                                                Morocco   \n",
       "NPL                                                  Nepal   \n",
       "NZL                                            New Zealand   \n",
       "NGA                                                Nigeria   \n",
       "PER                                                   Peru   \n",
       "RUS                                     Russian Federation   \n",
       "SAU                                           Saudi Arabia   \n",
       "SGP                                              Singapore   \n",
       "ZAF                                           South Africa   \n",
       "CHE                                            Switzerland   \n",
       "THA                                               Thailand   \n",
       "TUR                                                Türkiye   \n",
       "ARE                                   United Arab Emirates   \n",
       "GBR      United Kingdom of Great Britain and Northern I...   \n",
       "USA                               United States of America   \n",
       "VNM                                               Viet Nam   \n",
       "\n",
       "                Net Zero Rating alpha-2  Socioeconomic resilience  \\\n",
       "alpha-3                                                             \n",
       "ARG                        Poor      AR                  5.355912   \n",
       "AUS                        Poor      AU                  6.173538   \n",
       "BTN      Information incomplete      BT                  5.707487   \n",
       "BRA      Information incomplete      BR                  5.530113   \n",
       "CAN                     Average      CA                  5.882945   \n",
       "CHL                  Acceptable      CL                  5.672913   \n",
       "CHN                        Poor      CN                  4.689794   \n",
       "COL                  Acceptable      CO                  4.391096   \n",
       "CRI                  Acceptable      CR                  6.263940   \n",
       "ETH      Information incomplete      ET                  2.821925   \n",
       "GMB                        Poor      GM                  3.545838   \n",
       "DEU                     Average      DE                  5.877216   \n",
       "IND                        Poor      IN                  4.375650   \n",
       "IDN      Information incomplete      ID                  4.907918   \n",
       "JPN                        Poor      JP                  5.971476   \n",
       "KAZ                        Poor      KZ                  6.255852   \n",
       "KOR                     Average      KR                  6.220258   \n",
       "MAR      Information incomplete      MA                  4.052477   \n",
       "NPL                     Average      NP                  4.434028   \n",
       "NZL                        Poor      NZ                  6.571233   \n",
       "NGA                     Average      NG                  2.917088   \n",
       "PER      Information incomplete      PE                  5.362886   \n",
       "RUS                        Poor      RU                  6.381389   \n",
       "SAU                        Poor      SA                  5.454527   \n",
       "SGP                        Poor      SG                  5.915468   \n",
       "ZAF      Information incomplete      ZA                  4.751519   \n",
       "CHE                     Average      CH                  6.435005   \n",
       "THA                     Average      TH                  5.239967   \n",
       "TUR                        Poor      TR                  4.723314   \n",
       "ARE                        Poor      AE                  6.905295   \n",
       "GBR                  Acceptable      GB                  6.424171   \n",
       "USA                     Average      US                  6.124616   \n",
       "VNM                     Average      VN                  5.073895   \n",
       "\n",
       "         Climate resilience  Governance resilience  \n",
       "alpha-3                                             \n",
       "ARG                3.699203               5.357407  \n",
       "AUS                4.323282               5.009759  \n",
       "BTN                4.988717               3.606019  \n",
       "BRA                4.236506               5.641233  \n",
       "CAN                4.285114               4.982974  \n",
       "CHL                4.506615               5.887933  \n",
       "CHN                3.093866               4.745535  \n",
       "COL                4.593764               5.883822  \n",
       "CRI                5.403217               5.182518  \n",
       "ETH                4.321775               5.967991  \n",
       "GMB                3.549093               4.014866  \n",
       "DEU                4.282672               5.406252  \n",
       "IND                2.566768               5.338177  \n",
       "IDN                4.083386               5.685979  \n",
       "JPN                3.903243               4.484440  \n",
       "KAZ                3.780391               4.199033  \n",
       "KOR                4.227843               4.672967  \n",
       "MAR                4.563275               6.313593  \n",
       "NPL                3.204687               4.699736  \n",
       "NZL                4.928271               5.555424  \n",
       "NGA                3.892589               4.827925  \n",
       "PER                4.980904               4.956990  \n",
       "RUS                4.333799               4.780743  \n",
       "SAU                4.270091               4.133350  \n",
       "SGP                6.108335               3.640272  \n",
       "ZAF                4.835557               4.569033  \n",
       "CHE                4.728579               5.550614  \n",
       "THA                3.278491               5.201874  \n",
       "TUR                3.742777               5.114939  \n",
       "ARE                4.331421               3.458431  \n",
       "GBR                4.446186               5.948352  \n",
       "USA                3.934720               4.145763  \n",
       "VNM                3.202816               4.986185  "
      ]
     },
     "execution_count": 4,
     "metadata": {},
     "output_type": "execute_result"
    }
   ],
   "source": [
    "# Agregamos valores al resumen de países\n",
    "\n",
    "# Nombres de índices\n",
    "res_names = [ \"Socioeconomic resilience\",\n",
    "    \"Climate resilience\", \"Governance resilience\" ]\n",
    "\n",
    "# Creamos columnas con los índices, eliminamos los países con pocos datos.\n",
    "df_iso[ res_names[0]  ] = data_q_s.loc[\n",
    "    data_q_s[\"Count\"] > 10, \"Mean\" ]\n",
    "df_iso[ res_names[1]  ] = data_q_c.loc[\n",
    "    data_q_c[\"Count\"] > 10, \"Mean\" ]\n",
    "# Hay que ser muy laxos en gobernanza para \n",
    "# incluir a Bután que tiene objetivo Net Zero\n",
    "df_iso[ res_names[2]  ] = data_q_g.loc[\n",
    "    data_q_g[\"Count\"] > 2, \"Mean\" ]\n",
    "\n",
    "# Cargamos evaluación Net Zero\n",
    "df_nz = pd.read_csv( \"../../\" +\n",
    "    df_c.loc[ df_c[\"Origin\"]==\"Climate Action Tracker\", \"Path\" ].iloc[1] +\n",
    "    df_c.loc[ df_c[\"Origin\"]==\"Climate Action Tracker\", \"Filename\" ].iloc[1],\n",
    "    usecols = [\"ISO\", \"Overall Rating\"] )\n",
    "df_nz = df_nz.rename( columns = {\"ISO\": ix} ).set_index(ix)\n",
    "df_iso[\"Net Zero Rating\"] = df_nz[\"Overall Rating\"]\n",
    "df_iso[\"Net Zero Rating\"] = df_iso[\"Net Zero Rating\"].where(\n",
    "    ~df_iso[\"Net Zero Rating\"].isnull(), \"No target\" )\n",
    "\n",
    "# Limpiamos la tabla y guardamos\n",
    "df_res = df_iso.drop( [\"country-code\", \"iso_3166-2\", \"intermediate-region\",\n",
    "    \"region-code\", \"sub-region-code\", \"intermediate-region-code\"], axis = 1 )\n",
    "# Nos ponemos más estrictos con el valor de gobernanza\n",
    "df_res2 = df_res.copy()\n",
    "df_res2[ res_names[2]  ] = data_q_g.loc[\n",
    "    data_q_g[\"Count\"] > 5, \"Mean\" ]\n",
    "df_res2.to_csv( \"../results/countries_values.csv\", index = True )\n",
    "\n",
    "# Escogemos solo los países con objetivo Net Zero\n",
    "df_rnz = df_res.loc[ df_res[\"Net Zero Rating\"] != \"No target\",\n",
    "    [\"name\", \"Net Zero Rating\", \"alpha-2\"] + res_names ]\n",
    "df_rnz.to_csv( \"../results/countries_values_net_zero.csv\", index = True )\n",
    "\n",
    "df_rnz"
   ]
  },
  {
   "cell_type": "code",
   "execution_count": 5,
   "metadata": {},
   "outputs": [
    {
     "data": {
      "application/vnd.plotly.v1+json": {
       "config": {
        "plotlyServerURL": "https://plot.ly"
       },
       "data": [
        {
         "customdata": [
          [
           3.61,
           "Information incomplete"
          ],
          [
           5.64,
           "Information incomplete"
          ],
          [
           5.97,
           "Information incomplete"
          ],
          [
           5.69,
           "Information incomplete"
          ],
          [
           6.31,
           "Information incomplete"
          ],
          [
           4.96,
           "Information incomplete"
          ],
          [
           4.57,
           "Information incomplete"
          ]
         ],
         "hovertemplate": "<b>%{hovertext}</b><br><br>Net Zero Rating=%{customdata[1]}<br>Socioeconomic resilience=%{x}<br>Climate resilience=%{y}<br>Governance resilience=%{customdata[0]}<extra></extra>",
         "hovertext": [
          "Bhutan",
          "Brazil",
          "Ethiopia",
          "Indonesia",
          "Morocco",
          "Peru",
          "South Africa"
         ],
         "legendgroup": "Information incomplete",
         "marker": {
          "color": "#808080",
          "opacity": 1,
          "size": [
           3.61,
           5.64,
           5.97,
           5.69,
           6.31,
           4.96,
           4.57
          ],
          "sizemode": "area",
          "sizeref": 0.010095999999999999,
          "symbol": "circle"
         },
         "mode": "markers",
         "name": "Information incomplete",
         "orientation": "v",
         "showlegend": true,
         "type": "scatter",
         "x": [
          5.71,
          5.53,
          2.82,
          4.91,
          4.05,
          5.36,
          4.75
         ],
         "xaxis": "x",
         "y": [
          4.99,
          4.24,
          4.32,
          4.08,
          4.56,
          4.98,
          4.84
         ],
         "yaxis": "y"
        },
        {
         "customdata": [
          [
           5.36,
           "Poor"
          ],
          [
           5.01,
           "Poor"
          ],
          [
           4.75,
           "Poor"
          ],
          [
           4.01,
           "Poor"
          ],
          [
           5.34,
           "Poor"
          ],
          [
           4.48,
           "Poor"
          ],
          [
           4.2,
           "Poor"
          ],
          [
           5.56,
           "Poor"
          ],
          [
           4.78,
           "Poor"
          ],
          [
           4.13,
           "Poor"
          ],
          [
           3.64,
           "Poor"
          ],
          [
           5.11,
           "Poor"
          ],
          [
           3.46,
           "Poor"
          ]
         ],
         "hovertemplate": "<b>%{hovertext}</b><br><br>Net Zero Rating=%{customdata[1]}<br>Socioeconomic resilience=%{x}<br>Climate resilience=%{y}<br>Governance resilience=%{customdata[0]}<extra></extra>",
         "hovertext": [
          "Argentina",
          "Australia",
          "China",
          "Gambia",
          "India",
          "Japan",
          "Kazakhstan",
          "New Zealand",
          "Russian Federation",
          "Saudi Arabia",
          "Singapore",
          "Türkiye",
          "United Arab Emirates"
         ],
         "legendgroup": "Poor",
         "marker": {
          "color": "#8B0000",
          "opacity": 1,
          "size": [
           5.36,
           5.01,
           4.75,
           4.01,
           5.34,
           4.48,
           4.2,
           5.56,
           4.78,
           4.13,
           3.64,
           5.11,
           3.46
          ],
          "sizemode": "area",
          "sizeref": 0.010095999999999999,
          "symbol": "circle"
         },
         "mode": "markers",
         "name": "Poor",
         "orientation": "v",
         "showlegend": true,
         "type": "scatter",
         "x": [
          5.36,
          6.17,
          4.69,
          3.55,
          4.38,
          5.97,
          6.26,
          6.57,
          6.38,
          5.45,
          5.92,
          4.72,
          6.91
         ],
         "xaxis": "x",
         "y": [
          3.7,
          4.32,
          3.09,
          3.55,
          2.57,
          3.9,
          3.78,
          4.93,
          4.33,
          4.27,
          6.11,
          3.74,
          4.33
         ],
         "yaxis": "y"
        },
        {
         "customdata": [
          [
           4.98,
           "Average"
          ],
          [
           5.41,
           "Average"
          ],
          [
           4.67,
           "Average"
          ],
          [
           4.7,
           "Average"
          ],
          [
           4.83,
           "Average"
          ],
          [
           5.55,
           "Average"
          ],
          [
           5.2,
           "Average"
          ],
          [
           4.15,
           "Average"
          ],
          [
           4.99,
           "Average"
          ]
         ],
         "hovertemplate": "<b>%{hovertext}</b><br><br>Net Zero Rating=%{customdata[1]}<br>Socioeconomic resilience=%{x}<br>Climate resilience=%{y}<br>Governance resilience=%{customdata[0]}<extra></extra>",
         "hovertext": [
          "Canada",
          "Germany",
          "Korea, Republic of",
          "Nepal",
          "Nigeria",
          "Switzerland",
          "Thailand",
          "United States of America",
          "Viet Nam"
         ],
         "legendgroup": "Average",
         "marker": {
          "color": "#DAA520",
          "opacity": 1,
          "size": [
           4.98,
           5.41,
           4.67,
           4.7,
           4.83,
           5.55,
           5.2,
           4.15,
           4.99
          ],
          "sizemode": "area",
          "sizeref": 0.010095999999999999,
          "symbol": "circle"
         },
         "mode": "markers",
         "name": "Average",
         "orientation": "v",
         "showlegend": true,
         "type": "scatter",
         "x": [
          5.88,
          5.88,
          6.22,
          4.43,
          2.92,
          6.44,
          5.24,
          6.12,
          5.07
         ],
         "xaxis": "x",
         "y": [
          4.29,
          4.28,
          4.23,
          3.2,
          3.89,
          4.73,
          3.28,
          3.93,
          3.2
         ],
         "yaxis": "y"
        },
        {
         "customdata": [
          [
           5.89,
           "Acceptable"
          ],
          [
           5.88,
           "Acceptable"
          ],
          [
           5.18,
           "Acceptable"
          ],
          [
           5.95,
           "Acceptable"
          ]
         ],
         "hovertemplate": "<b>%{hovertext}</b><br><br>Net Zero Rating=%{customdata[1]}<br>Socioeconomic resilience=%{x}<br>Climate resilience=%{y}<br>Governance resilience=%{customdata[0]}<extra></extra>",
         "hovertext": [
          "Chile",
          "Colombia",
          "Costa Rica",
          "United Kingdom of Great Britain and Northern Ireland"
         ],
         "legendgroup": "Acceptable",
         "marker": {
          "color": "#006400",
          "opacity": 1,
          "size": [
           5.89,
           5.88,
           5.18,
           5.95
          ],
          "sizemode": "area",
          "sizeref": 0.010095999999999999,
          "symbol": "circle"
         },
         "mode": "markers",
         "name": "Acceptable",
         "orientation": "v",
         "showlegend": true,
         "type": "scatter",
         "x": [
          5.67,
          4.39,
          6.26,
          6.42
         ],
         "xaxis": "x",
         "y": [
          4.51,
          4.59,
          5.4,
          4.45
         ],
         "yaxis": "y"
        }
       ],
       "layout": {
        "height": 600,
        "images": [
         {
          "layer": "above",
          "opacity": 1,
          "sizex": 0.21429626527960505,
          "sizey": 0.21429626527960505,
          "sizing": "contain",
          "source": "https://raw.githubusercontent.com/matahombres/CSS-Country-Flags-Rounded/master/flags/AR.png",
          "x": 5.355911928275955,
          "xanchor": "center",
          "xref": "x",
          "y": 3.6992031824959275,
          "yanchor": "middle",
          "yref": "y"
         },
         {
          "layer": "above",
          "opacity": 1,
          "sizex": 0.20039035526543636,
          "sizey": 0.20039035526543636,
          "sizing": "contain",
          "source": "https://raw.githubusercontent.com/matahombres/CSS-Country-Flags-Rounded/master/flags/AU.png",
          "x": 6.173537826970444,
          "xanchor": "center",
          "xref": "x",
          "y": 4.3232820823037335,
          "yanchor": "middle",
          "yref": "y"
         },
         {
          "layer": "above",
          "opacity": 1,
          "sizex": 0.14424077695576323,
          "sizey": 0.14424077695576323,
          "sizing": "contain",
          "source": "https://raw.githubusercontent.com/matahombres/CSS-Country-Flags-Rounded/master/flags/BT.png",
          "x": 5.707486973402455,
          "xanchor": "center",
          "xref": "x",
          "y": 4.988717078941717,
          "yanchor": "middle",
          "yref": "y"
         },
         {
          "layer": "above",
          "opacity": 1,
          "sizex": 0.2256493067363944,
          "sizey": 0.2256493067363944,
          "sizing": "contain",
          "source": "https://raw.githubusercontent.com/matahombres/CSS-Country-Flags-Rounded/master/flags/BR.png",
          "x": 5.530113013380537,
          "xanchor": "center",
          "xref": "x",
          "y": 4.236506157112708,
          "yanchor": "middle",
          "yref": "y"
         },
         {
          "layer": "above",
          "opacity": 1,
          "sizex": 0.19931896835864113,
          "sizey": 0.19931896835864113,
          "sizing": "contain",
          "source": "https://raw.githubusercontent.com/matahombres/CSS-Country-Flags-Rounded/master/flags/CA.png",
          "x": 5.8829452089682865,
          "xanchor": "center",
          "xref": "x",
          "y": 4.285113847226107,
          "yanchor": "middle",
          "yref": "y"
         },
         {
          "layer": "above",
          "opacity": 1,
          "sizex": 0.23551733952600443,
          "sizey": 0.23551733952600443,
          "sizing": "contain",
          "source": "https://raw.githubusercontent.com/matahombres/CSS-Country-Flags-Rounded/master/flags/CL.png",
          "x": 5.672912710604405,
          "xanchor": "center",
          "xref": "x",
          "y": 4.506615038007255,
          "yanchor": "middle",
          "yref": "y"
         },
         {
          "layer": "above",
          "opacity": 1,
          "sizex": 0.18982138093221823,
          "sizey": 0.18982138093221823,
          "sizing": "contain",
          "source": "https://raw.githubusercontent.com/matahombres/CSS-Country-Flags-Rounded/master/flags/CN.png",
          "x": 4.689794221884756,
          "xanchor": "center",
          "xref": "x",
          "y": 3.0938657641793874,
          "yanchor": "middle",
          "yref": "y"
         },
         {
          "layer": "above",
          "opacity": 1,
          "sizex": 0.23535287783002484,
          "sizey": 0.23535287783002484,
          "sizing": "contain",
          "source": "https://raw.githubusercontent.com/matahombres/CSS-Country-Flags-Rounded/master/flags/CO.png",
          "x": 4.391096309568645,
          "xanchor": "center",
          "xref": "x",
          "y": 4.593764096745689,
          "yanchor": "middle",
          "yref": "y"
         },
         {
          "layer": "above",
          "opacity": 1,
          "sizex": 0.20730071498543926,
          "sizey": 0.20730071498543926,
          "sizing": "contain",
          "source": "https://raw.githubusercontent.com/matahombres/CSS-Country-Flags-Rounded/master/flags/CR.png",
          "x": 6.263939562278912,
          "xanchor": "center",
          "xref": "x",
          "y": 5.403216860893803,
          "yanchor": "middle",
          "yref": "y"
         },
         {
          "layer": "above",
          "opacity": 1,
          "sizex": 0.23871964663309708,
          "sizey": 0.23871964663309708,
          "sizing": "contain",
          "source": "https://raw.githubusercontent.com/matahombres/CSS-Country-Flags-Rounded/master/flags/ET.png",
          "x": 2.8219250790689556,
          "xanchor": "center",
          "xref": "x",
          "y": 4.321775498430089,
          "yanchor": "middle",
          "yref": "y"
         },
         {
          "layer": "above",
          "opacity": 1,
          "sizex": 0.16059462911817485,
          "sizey": 0.16059462911817485,
          "sizing": "contain",
          "source": "https://raw.githubusercontent.com/matahombres/CSS-Country-Flags-Rounded/master/flags/GM.png",
          "x": 3.545837819950698,
          "xanchor": "center",
          "xref": "x",
          "y": 3.5490925895454835,
          "yanchor": "middle",
          "yref": "y"
         },
         {
          "layer": "above",
          "opacity": 1,
          "sizex": 0.21625006608816646,
          "sizey": 0.21625006608816646,
          "sizing": "contain",
          "source": "https://raw.githubusercontent.com/matahombres/CSS-Country-Flags-Rounded/master/flags/DE.png",
          "x": 5.877216126805736,
          "xanchor": "center",
          "xref": "x",
          "y": 4.282671897687382,
          "yanchor": "middle",
          "yref": "y"
         },
         {
          "layer": "above",
          "opacity": 1,
          "sizex": 0.21352709624369504,
          "sizey": 0.21352709624369504,
          "sizing": "contain",
          "source": "https://raw.githubusercontent.com/matahombres/CSS-Country-Flags-Rounded/master/flags/IN.png",
          "x": 4.375650455253221,
          "xanchor": "center",
          "xref": "x",
          "y": 2.5667683698349,
          "yanchor": "middle",
          "yref": "y"
         },
         {
          "layer": "above",
          "opacity": 1,
          "sizex": 0.2274391778130797,
          "sizey": 0.2274391778130797,
          "sizing": "contain",
          "source": "https://raw.githubusercontent.com/matahombres/CSS-Country-Flags-Rounded/master/flags/ID.png",
          "x": 4.907917583929944,
          "xanchor": "center",
          "xref": "x",
          "y": 4.083385622803697,
          "yanchor": "middle",
          "yref": "y"
         },
         {
          "layer": "above",
          "opacity": 1,
          "sizex": 0.17937758469144857,
          "sizey": 0.17937758469144857,
          "sizing": "contain",
          "source": "https://raw.githubusercontent.com/matahombres/CSS-Country-Flags-Rounded/master/flags/JP.png",
          "x": 5.97147611194965,
          "xanchor": "center",
          "xref": "x",
          "y": 3.903243405692208,
          "yanchor": "middle",
          "yref": "y"
         },
         {
          "layer": "above",
          "opacity": 1,
          "sizex": 0.16796133114108597,
          "sizey": 0.16796133114108597,
          "sizing": "contain",
          "source": "https://raw.githubusercontent.com/matahombres/CSS-Country-Flags-Rounded/master/flags/KZ.png",
          "x": 6.255852051291355,
          "xanchor": "center",
          "xref": "x",
          "y": 3.7803910602786286,
          "yanchor": "middle",
          "yref": "y"
         },
         {
          "layer": "above",
          "opacity": 1,
          "sizex": 0.18691866769625032,
          "sizey": 0.18691866769625032,
          "sizing": "contain",
          "source": "https://raw.githubusercontent.com/matahombres/CSS-Country-Flags-Rounded/master/flags/KR.png",
          "x": 6.220258126243638,
          "xanchor": "center",
          "xref": "x",
          "y": 4.22784322619163,
          "yanchor": "middle",
          "yref": "y"
         },
         {
          "layer": "above",
          "opacity": 1,
          "sizex": 0.25254372836482575,
          "sizey": 0.25254372836482575,
          "sizing": "contain",
          "source": "https://raw.githubusercontent.com/matahombres/CSS-Country-Flags-Rounded/master/flags/MA.png",
          "x": 4.052477464965057,
          "xanchor": "center",
          "xref": "x",
          "y": 4.563274721046264,
          "yanchor": "middle",
          "yref": "y"
         },
         {
          "layer": "above",
          "opacity": 1,
          "sizex": 0.18798942495935417,
          "sizey": 0.18798942495935417,
          "sizing": "contain",
          "source": "https://raw.githubusercontent.com/matahombres/CSS-Country-Flags-Rounded/master/flags/NP.png",
          "x": 4.434027807798096,
          "xanchor": "center",
          "xref": "x",
          "y": 3.2046868412614087,
          "yanchor": "middle",
          "yref": "y"
         },
         {
          "layer": "above",
          "opacity": 1,
          "sizex": 0.22221694694432234,
          "sizey": 0.22221694694432234,
          "sizing": "contain",
          "source": "https://raw.githubusercontent.com/matahombres/CSS-Country-Flags-Rounded/master/flags/NZ.png",
          "x": 6.571233095057189,
          "xanchor": "center",
          "xref": "x",
          "y": 4.928270931459078,
          "yanchor": "middle",
          "yref": "y"
         },
         {
          "layer": "above",
          "opacity": 1,
          "sizex": 0.1931169828942496,
          "sizey": 0.1931169828942496,
          "sizing": "contain",
          "source": "https://raw.githubusercontent.com/matahombres/CSS-Country-Flags-Rounded/master/flags/NG.png",
          "x": 2.9170878466494816,
          "xanchor": "center",
          "xref": "x",
          "y": 3.892588526430422,
          "yanchor": "middle",
          "yref": "y"
         },
         {
          "layer": "above",
          "opacity": 1,
          "sizex": 0.19827959676937287,
          "sizey": 0.19827959676937287,
          "sizing": "contain",
          "source": "https://raw.githubusercontent.com/matahombres/CSS-Country-Flags-Rounded/master/flags/PE.png",
          "x": 5.362886263761569,
          "xanchor": "center",
          "xref": "x",
          "y": 4.980903575586131,
          "yanchor": "middle",
          "yref": "y"
         },
         {
          "layer": "above",
          "opacity": 1,
          "sizex": 0.19122971954101303,
          "sizey": 0.19122971954101303,
          "sizing": "contain",
          "source": "https://raw.githubusercontent.com/matahombres/CSS-Country-Flags-Rounded/master/flags/RU.png",
          "x": 6.381388971877924,
          "xanchor": "center",
          "xref": "x",
          "y": 4.333798948469945,
          "yanchor": "middle",
          "yref": "y"
         },
         {
          "layer": "above",
          "opacity": 1,
          "sizex": 0.16533399296221535,
          "sizey": 0.16533399296221535,
          "sizing": "contain",
          "source": "https://raw.githubusercontent.com/matahombres/CSS-Country-Flags-Rounded/master/flags/SA.png",
          "x": 5.454526997380136,
          "xanchor": "center",
          "xref": "x",
          "y": 4.270091394889415,
          "yanchor": "middle",
          "yref": "y"
         },
         {
          "layer": "above",
          "opacity": 1,
          "sizex": 0.14561089988696796,
          "sizey": 0.14561089988696796,
          "sizing": "contain",
          "source": "https://raw.githubusercontent.com/matahombres/CSS-Country-Flags-Rounded/master/flags/SG.png",
          "x": 5.91546757276983,
          "xanchor": "center",
          "xref": "x",
          "y": 6.108335010758996,
          "yanchor": "middle",
          "yref": "y"
         },
         {
          "layer": "above",
          "opacity": 1,
          "sizex": 0.1827613178013653,
          "sizey": 0.1827613178013653,
          "sizing": "contain",
          "source": "https://raw.githubusercontent.com/matahombres/CSS-Country-Flags-Rounded/master/flags/ZA.png",
          "x": 4.751518629103971,
          "xanchor": "center",
          "xref": "x",
          "y": 4.835556735578547,
          "yanchor": "middle",
          "yref": "y"
         },
         {
          "layer": "above",
          "opacity": 1,
          "sizex": 0.22202456629989326,
          "sizey": 0.22202456629989326,
          "sizing": "contain",
          "source": "https://raw.githubusercontent.com/matahombres/CSS-Country-Flags-Rounded/master/flags/CH.png",
          "x": 6.435005422420475,
          "xanchor": "center",
          "xref": "x",
          "y": 4.7285794795253135,
          "yanchor": "middle",
          "yref": "y"
         },
         {
          "layer": "above",
          "opacity": 1,
          "sizex": 0.20807495326407857,
          "sizey": 0.20807495326407857,
          "sizing": "contain",
          "source": "https://raw.githubusercontent.com/matahombres/CSS-Country-Flags-Rounded/master/flags/TH.png",
          "x": 5.239966907319651,
          "xanchor": "center",
          "xref": "x",
          "y": 3.278491453940325,
          "yanchor": "middle",
          "yref": "y"
         },
         {
          "layer": "above",
          "opacity": 1,
          "sizex": 0.20459754015452447,
          "sizey": 0.20459754015452447,
          "sizing": "contain",
          "source": "https://raw.githubusercontent.com/matahombres/CSS-Country-Flags-Rounded/master/flags/TR.png",
          "x": 4.723313656425495,
          "xanchor": "center",
          "xref": "x",
          "y": 3.742776634815543,
          "yanchor": "middle",
          "yref": "y"
         },
         {
          "layer": "above",
          "opacity": 1,
          "sizex": 0.13833724276430004,
          "sizey": 0.13833724276430004,
          "sizing": "contain",
          "source": "https://raw.githubusercontent.com/matahombres/CSS-Country-Flags-Rounded/master/flags/AE.png",
          "x": 6.905295198088547,
          "xanchor": "center",
          "xref": "x",
          "y": 4.331420738997057,
          "yanchor": "middle",
          "yref": "y"
         },
         {
          "layer": "above",
          "opacity": 1,
          "sizex": 0.23793407398567198,
          "sizey": 0.23793407398567198,
          "sizing": "contain",
          "source": "https://raw.githubusercontent.com/matahombres/CSS-Country-Flags-Rounded/master/flags/GB.png",
          "x": 6.424170617027886,
          "xanchor": "center",
          "xref": "x",
          "y": 4.446185811549086,
          "yanchor": "middle",
          "yref": "y"
         },
         {
          "layer": "above",
          "opacity": 1,
          "sizex": 0.1658305244343803,
          "sizey": 0.1658305244343803,
          "sizing": "contain",
          "source": "https://raw.githubusercontent.com/matahombres/CSS-Country-Flags-Rounded/master/flags/US.png",
          "x": 6.124615999094604,
          "xanchor": "center",
          "xref": "x",
          "y": 3.9347202768122536,
          "yanchor": "middle",
          "yref": "y"
         },
         {
          "layer": "above",
          "opacity": 1,
          "sizex": 0.1994474059347235,
          "sizey": 0.1994474059347235,
          "sizing": "contain",
          "source": "https://raw.githubusercontent.com/matahombres/CSS-Country-Flags-Rounded/master/flags/VN.png",
          "x": 5.073894997991801,
          "xanchor": "center",
          "xref": "x",
          "y": 3.2028162347653146,
          "yanchor": "middle",
          "yref": "y"
         }
        ],
        "legend": {
         "itemsizing": "constant",
         "title": {
          "text": "Net Zero Rating"
         },
         "tracegroupgap": 0
        },
        "margin": {
         "t": 60
        },
        "plot_bgcolor": "#dfdfdf",
        "template": {
         "data": {
          "bar": [
           {
            "error_x": {
             "color": "#2a3f5f"
            },
            "error_y": {
             "color": "#2a3f5f"
            },
            "marker": {
             "line": {
              "color": "#E5ECF6",
              "width": 0.5
             },
             "pattern": {
              "fillmode": "overlay",
              "size": 10,
              "solidity": 0.2
             }
            },
            "type": "bar"
           }
          ],
          "barpolar": [
           {
            "marker": {
             "line": {
              "color": "#E5ECF6",
              "width": 0.5
             },
             "pattern": {
              "fillmode": "overlay",
              "size": 10,
              "solidity": 0.2
             }
            },
            "type": "barpolar"
           }
          ],
          "carpet": [
           {
            "aaxis": {
             "endlinecolor": "#2a3f5f",
             "gridcolor": "white",
             "linecolor": "white",
             "minorgridcolor": "white",
             "startlinecolor": "#2a3f5f"
            },
            "baxis": {
             "endlinecolor": "#2a3f5f",
             "gridcolor": "white",
             "linecolor": "white",
             "minorgridcolor": "white",
             "startlinecolor": "#2a3f5f"
            },
            "type": "carpet"
           }
          ],
          "choropleth": [
           {
            "colorbar": {
             "outlinewidth": 0,
             "ticks": ""
            },
            "type": "choropleth"
           }
          ],
          "contour": [
           {
            "colorbar": {
             "outlinewidth": 0,
             "ticks": ""
            },
            "colorscale": [
             [
              0,
              "#0d0887"
             ],
             [
              0.1111111111111111,
              "#46039f"
             ],
             [
              0.2222222222222222,
              "#7201a8"
             ],
             [
              0.3333333333333333,
              "#9c179e"
             ],
             [
              0.4444444444444444,
              "#bd3786"
             ],
             [
              0.5555555555555556,
              "#d8576b"
             ],
             [
              0.6666666666666666,
              "#ed7953"
             ],
             [
              0.7777777777777778,
              "#fb9f3a"
             ],
             [
              0.8888888888888888,
              "#fdca26"
             ],
             [
              1,
              "#f0f921"
             ]
            ],
            "type": "contour"
           }
          ],
          "contourcarpet": [
           {
            "colorbar": {
             "outlinewidth": 0,
             "ticks": ""
            },
            "type": "contourcarpet"
           }
          ],
          "heatmap": [
           {
            "colorbar": {
             "outlinewidth": 0,
             "ticks": ""
            },
            "colorscale": [
             [
              0,
              "#0d0887"
             ],
             [
              0.1111111111111111,
              "#46039f"
             ],
             [
              0.2222222222222222,
              "#7201a8"
             ],
             [
              0.3333333333333333,
              "#9c179e"
             ],
             [
              0.4444444444444444,
              "#bd3786"
             ],
             [
              0.5555555555555556,
              "#d8576b"
             ],
             [
              0.6666666666666666,
              "#ed7953"
             ],
             [
              0.7777777777777778,
              "#fb9f3a"
             ],
             [
              0.8888888888888888,
              "#fdca26"
             ],
             [
              1,
              "#f0f921"
             ]
            ],
            "type": "heatmap"
           }
          ],
          "heatmapgl": [
           {
            "colorbar": {
             "outlinewidth": 0,
             "ticks": ""
            },
            "colorscale": [
             [
              0,
              "#0d0887"
             ],
             [
              0.1111111111111111,
              "#46039f"
             ],
             [
              0.2222222222222222,
              "#7201a8"
             ],
             [
              0.3333333333333333,
              "#9c179e"
             ],
             [
              0.4444444444444444,
              "#bd3786"
             ],
             [
              0.5555555555555556,
              "#d8576b"
             ],
             [
              0.6666666666666666,
              "#ed7953"
             ],
             [
              0.7777777777777778,
              "#fb9f3a"
             ],
             [
              0.8888888888888888,
              "#fdca26"
             ],
             [
              1,
              "#f0f921"
             ]
            ],
            "type": "heatmapgl"
           }
          ],
          "histogram": [
           {
            "marker": {
             "pattern": {
              "fillmode": "overlay",
              "size": 10,
              "solidity": 0.2
             }
            },
            "type": "histogram"
           }
          ],
          "histogram2d": [
           {
            "colorbar": {
             "outlinewidth": 0,
             "ticks": ""
            },
            "colorscale": [
             [
              0,
              "#0d0887"
             ],
             [
              0.1111111111111111,
              "#46039f"
             ],
             [
              0.2222222222222222,
              "#7201a8"
             ],
             [
              0.3333333333333333,
              "#9c179e"
             ],
             [
              0.4444444444444444,
              "#bd3786"
             ],
             [
              0.5555555555555556,
              "#d8576b"
             ],
             [
              0.6666666666666666,
              "#ed7953"
             ],
             [
              0.7777777777777778,
              "#fb9f3a"
             ],
             [
              0.8888888888888888,
              "#fdca26"
             ],
             [
              1,
              "#f0f921"
             ]
            ],
            "type": "histogram2d"
           }
          ],
          "histogram2dcontour": [
           {
            "colorbar": {
             "outlinewidth": 0,
             "ticks": ""
            },
            "colorscale": [
             [
              0,
              "#0d0887"
             ],
             [
              0.1111111111111111,
              "#46039f"
             ],
             [
              0.2222222222222222,
              "#7201a8"
             ],
             [
              0.3333333333333333,
              "#9c179e"
             ],
             [
              0.4444444444444444,
              "#bd3786"
             ],
             [
              0.5555555555555556,
              "#d8576b"
             ],
             [
              0.6666666666666666,
              "#ed7953"
             ],
             [
              0.7777777777777778,
              "#fb9f3a"
             ],
             [
              0.8888888888888888,
              "#fdca26"
             ],
             [
              1,
              "#f0f921"
             ]
            ],
            "type": "histogram2dcontour"
           }
          ],
          "mesh3d": [
           {
            "colorbar": {
             "outlinewidth": 0,
             "ticks": ""
            },
            "type": "mesh3d"
           }
          ],
          "parcoords": [
           {
            "line": {
             "colorbar": {
              "outlinewidth": 0,
              "ticks": ""
             }
            },
            "type": "parcoords"
           }
          ],
          "pie": [
           {
            "automargin": true,
            "type": "pie"
           }
          ],
          "scatter": [
           {
            "fillpattern": {
             "fillmode": "overlay",
             "size": 10,
             "solidity": 0.2
            },
            "type": "scatter"
           }
          ],
          "scatter3d": [
           {
            "line": {
             "colorbar": {
              "outlinewidth": 0,
              "ticks": ""
             }
            },
            "marker": {
             "colorbar": {
              "outlinewidth": 0,
              "ticks": ""
             }
            },
            "type": "scatter3d"
           }
          ],
          "scattercarpet": [
           {
            "marker": {
             "colorbar": {
              "outlinewidth": 0,
              "ticks": ""
             }
            },
            "type": "scattercarpet"
           }
          ],
          "scattergeo": [
           {
            "marker": {
             "colorbar": {
              "outlinewidth": 0,
              "ticks": ""
             }
            },
            "type": "scattergeo"
           }
          ],
          "scattergl": [
           {
            "marker": {
             "colorbar": {
              "outlinewidth": 0,
              "ticks": ""
             }
            },
            "type": "scattergl"
           }
          ],
          "scattermapbox": [
           {
            "marker": {
             "colorbar": {
              "outlinewidth": 0,
              "ticks": ""
             }
            },
            "type": "scattermapbox"
           }
          ],
          "scatterpolar": [
           {
            "marker": {
             "colorbar": {
              "outlinewidth": 0,
              "ticks": ""
             }
            },
            "type": "scatterpolar"
           }
          ],
          "scatterpolargl": [
           {
            "marker": {
             "colorbar": {
              "outlinewidth": 0,
              "ticks": ""
             }
            },
            "type": "scatterpolargl"
           }
          ],
          "scatterternary": [
           {
            "marker": {
             "colorbar": {
              "outlinewidth": 0,
              "ticks": ""
             }
            },
            "type": "scatterternary"
           }
          ],
          "surface": [
           {
            "colorbar": {
             "outlinewidth": 0,
             "ticks": ""
            },
            "colorscale": [
             [
              0,
              "#0d0887"
             ],
             [
              0.1111111111111111,
              "#46039f"
             ],
             [
              0.2222222222222222,
              "#7201a8"
             ],
             [
              0.3333333333333333,
              "#9c179e"
             ],
             [
              0.4444444444444444,
              "#bd3786"
             ],
             [
              0.5555555555555556,
              "#d8576b"
             ],
             [
              0.6666666666666666,
              "#ed7953"
             ],
             [
              0.7777777777777778,
              "#fb9f3a"
             ],
             [
              0.8888888888888888,
              "#fdca26"
             ],
             [
              1,
              "#f0f921"
             ]
            ],
            "type": "surface"
           }
          ],
          "table": [
           {
            "cells": {
             "fill": {
              "color": "#EBF0F8"
             },
             "line": {
              "color": "white"
             }
            },
            "header": {
             "fill": {
              "color": "#C8D4E3"
             },
             "line": {
              "color": "white"
             }
            },
            "type": "table"
           }
          ]
         },
         "layout": {
          "annotationdefaults": {
           "arrowcolor": "#2a3f5f",
           "arrowhead": 0,
           "arrowwidth": 1
          },
          "autotypenumbers": "strict",
          "coloraxis": {
           "colorbar": {
            "outlinewidth": 0,
            "ticks": ""
           }
          },
          "colorscale": {
           "diverging": [
            [
             0,
             "#8e0152"
            ],
            [
             0.1,
             "#c51b7d"
            ],
            [
             0.2,
             "#de77ae"
            ],
            [
             0.3,
             "#f1b6da"
            ],
            [
             0.4,
             "#fde0ef"
            ],
            [
             0.5,
             "#f7f7f7"
            ],
            [
             0.6,
             "#e6f5d0"
            ],
            [
             0.7,
             "#b8e186"
            ],
            [
             0.8,
             "#7fbc41"
            ],
            [
             0.9,
             "#4d9221"
            ],
            [
             1,
             "#276419"
            ]
           ],
           "sequential": [
            [
             0,
             "#0d0887"
            ],
            [
             0.1111111111111111,
             "#46039f"
            ],
            [
             0.2222222222222222,
             "#7201a8"
            ],
            [
             0.3333333333333333,
             "#9c179e"
            ],
            [
             0.4444444444444444,
             "#bd3786"
            ],
            [
             0.5555555555555556,
             "#d8576b"
            ],
            [
             0.6666666666666666,
             "#ed7953"
            ],
            [
             0.7777777777777778,
             "#fb9f3a"
            ],
            [
             0.8888888888888888,
             "#fdca26"
            ],
            [
             1,
             "#f0f921"
            ]
           ],
           "sequentialminus": [
            [
             0,
             "#0d0887"
            ],
            [
             0.1111111111111111,
             "#46039f"
            ],
            [
             0.2222222222222222,
             "#7201a8"
            ],
            [
             0.3333333333333333,
             "#9c179e"
            ],
            [
             0.4444444444444444,
             "#bd3786"
            ],
            [
             0.5555555555555556,
             "#d8576b"
            ],
            [
             0.6666666666666666,
             "#ed7953"
            ],
            [
             0.7777777777777778,
             "#fb9f3a"
            ],
            [
             0.8888888888888888,
             "#fdca26"
            ],
            [
             1,
             "#f0f921"
            ]
           ]
          },
          "colorway": [
           "#636efa",
           "#EF553B",
           "#00cc96",
           "#ab63fa",
           "#FFA15A",
           "#19d3f3",
           "#FF6692",
           "#B6E880",
           "#FF97FF",
           "#FECB52"
          ],
          "font": {
           "color": "#2a3f5f"
          },
          "geo": {
           "bgcolor": "white",
           "lakecolor": "white",
           "landcolor": "#E5ECF6",
           "showlakes": true,
           "showland": true,
           "subunitcolor": "white"
          },
          "hoverlabel": {
           "align": "left"
          },
          "hovermode": "closest",
          "mapbox": {
           "style": "light"
          },
          "paper_bgcolor": "white",
          "plot_bgcolor": "#E5ECF6",
          "polar": {
           "angularaxis": {
            "gridcolor": "white",
            "linecolor": "white",
            "ticks": ""
           },
           "bgcolor": "#E5ECF6",
           "radialaxis": {
            "gridcolor": "white",
            "linecolor": "white",
            "ticks": ""
           }
          },
          "scene": {
           "xaxis": {
            "backgroundcolor": "#E5ECF6",
            "gridcolor": "white",
            "gridwidth": 2,
            "linecolor": "white",
            "showbackground": true,
            "ticks": "",
            "zerolinecolor": "white"
           },
           "yaxis": {
            "backgroundcolor": "#E5ECF6",
            "gridcolor": "white",
            "gridwidth": 2,
            "linecolor": "white",
            "showbackground": true,
            "ticks": "",
            "zerolinecolor": "white"
           },
           "zaxis": {
            "backgroundcolor": "#E5ECF6",
            "gridcolor": "white",
            "gridwidth": 2,
            "linecolor": "white",
            "showbackground": true,
            "ticks": "",
            "zerolinecolor": "white"
           }
          },
          "shapedefaults": {
           "line": {
            "color": "#2a3f5f"
           }
          },
          "ternary": {
           "aaxis": {
            "gridcolor": "white",
            "linecolor": "white",
            "ticks": ""
           },
           "baxis": {
            "gridcolor": "white",
            "linecolor": "white",
            "ticks": ""
           },
           "bgcolor": "#E5ECF6",
           "caxis": {
            "gridcolor": "white",
            "linecolor": "white",
            "ticks": ""
           }
          },
          "title": {
           "x": 0.05
          },
          "xaxis": {
           "automargin": true,
           "gridcolor": "white",
           "linecolor": "white",
           "ticks": "",
           "title": {
            "standoff": 15
           },
           "zerolinecolor": "white",
           "zerolinewidth": 2
          },
          "yaxis": {
           "automargin": true,
           "gridcolor": "white",
           "linecolor": "white",
           "ticks": "",
           "title": {
            "standoff": 15
           },
           "zerolinecolor": "white",
           "zerolinewidth": 2
          }
         }
        },
        "width": 1000,
        "xaxis": {
         "anchor": "y",
         "domain": [
          0,
          1
         ],
         "title": {
          "text": "Socioeconomic resilience"
         }
        },
        "yaxis": {
         "anchor": "x",
         "domain": [
          0,
          1
         ],
         "title": {
          "text": "Climate resilience"
         }
        }
       }
      }
     },
     "metadata": {},
     "output_type": "display_data"
    }
   ],
   "source": [
    "# Graficamos los indicadores para los países con objetivo Net Zero\n",
    "\n",
    "# Reodenamos las primeras filas para tener la simbología correcta\n",
    "df_g = df_rnz.copy()\n",
    "n = list(range(df_rnz.shape[0]))\n",
    "n.remove(0)\n",
    "n.remove(2)\n",
    "n.remove(4)\n",
    "n.remove(5)\n",
    "df_g = df_g.iloc[[2, 0, 4, 5] + n ]\n",
    "for i in res_names:\n",
    "    df_g[i] = df_rnz[i].apply(lambda x: float(f\"{x:.2f}\"))\n",
    "\n",
    "# Graficamos las coordenadas de los países y el Net Zero Rating\n",
    "fig = px.scatter( df_g, x = res_names[0], y = res_names[1],\n",
    "    hover_name = \"name\", hover_data = res_names + [\"Net Zero Rating\"],\n",
    "    size = res_names[2], color = \"Net Zero Rating\", opacity = 1, size_max = 25,\n",
    "    color_discrete_sequence=[\"#808080\", \"#8B0000\", \"#DAA520\", \"#006400\"]\n",
    ")\n",
    "# Hacemos que el scatter sea invisible\n",
    "#fig.update_traces( marker_color = \"rgba(0,0,0,0)\" )\n",
    "\n",
    "'''Agregar Net Zero Rating como círculo de color'''\n",
    "# Agregamos la bandera de cada país\n",
    "for i, row in df_rnz.iterrows():\n",
    "    country_iso = row[\"alpha-2\"]\n",
    "    fig.add_layout_image(\n",
    "        {\n",
    "            \"source\": \"https://raw.githubusercontent.com/matahombres/\"\n",
    "            + f\"CSS-Country-Flags-Rounded/master/flags/{country_iso}.png\",\n",
    "            \"xref\": \"x\", \"yref\": \"y\", \"xanchor\": \"center\", \"yanchor\": \"middle\",\n",
    "            \"x\": row[res_names[0]], \"y\": row[res_names[1]],\n",
    "            \"sizex\": row[res_names[2]]/25, \"sizey\": row[res_names[2]]/25,\n",
    "            \"sizing\": \"contain\",\n",
    "            #\"bordercolor\":  \"green\",\n",
    "            \"opacity\": 1,\n",
    "            \"layer\": \"above\"\n",
    "        }\n",
    "    )\n",
    "\n",
    "# Ajustes de visualización\n",
    "fig.update_layout( height = 600, width = 1000, plot_bgcolor = \"#dfdfdf\" )\n",
    "\n",
    "fig.show()"
   ]
  }
 ],
 "metadata": {
  "kernelspec": {
   "display_name": "xarray",
   "language": "python",
   "name": "python3"
  },
  "language_info": {
   "codemirror_mode": {
    "name": "ipython",
    "version": 3
   },
   "file_extension": ".py",
   "mimetype": "text/x-python",
   "name": "python",
   "nbconvert_exporter": "python",
   "pygments_lexer": "ipython3",
   "version": "3.12.2"
  }
 },
 "nbformat": 4,
 "nbformat_minor": 2
}
