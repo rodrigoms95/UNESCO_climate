{
 "cells": [
  {
   "cell_type": "code",
   "execution_count": 1,
   "metadata": {},
   "outputs": [],
   "source": [
    "import numpy as np\n",
    "import pandas as pd\n",
    "\n",
    "# Importamos pyplot\n",
    "from matplotlib import pyplot as plt"
   ]
  },
  {
   "cell_type": "code",
   "execution_count": 2,
   "metadata": {},
   "outputs": [],
   "source": [
    "catalog = \"../../Bases_de_datos/Data_catalog.csv\"\n",
    "iso = \"../../Bases_de_datos/Country_ISO_code.csv\"\n",
    "path_v = \"../data/variables.csv\"\n",
    "ix = \"alpha-3\"\n",
    "\n",
    "df_c = pd.read_csv(catalog)\n",
    "df_iso = pd.read_csv(iso).set_index(ix)\n",
    "data_0 = pd.DataFrame(index = df_iso.index)\n",
    "data_s   = data_0.copy()\n",
    "data_c   = data_0.copy()\n",
    "data_g   = data_0.copy()\n",
    "data_q_s = data_0.copy()\n",
    "data_q_c = data_0.copy()\n",
    "data_q_g = data_0.copy()\n",
    "\n",
    "df_v = pd.read_csv(path_v)"
   ]
  },
  {
   "cell_type": "code",
   "execution_count": 3,
   "metadata": {},
   "outputs": [
    {
     "data": {
      "text/html": [
       "<div>\n",
       "<style scoped>\n",
       "    .dataframe tbody tr th:only-of-type {\n",
       "        vertical-align: middle;\n",
       "    }\n",
       "\n",
       "    .dataframe tbody tr th {\n",
       "        vertical-align: top;\n",
       "    }\n",
       "\n",
       "    .dataframe thead th {\n",
       "        text-align: right;\n",
       "    }\n",
       "</style>\n",
       "<table border=\"1\" class=\"dataframe\">\n",
       "  <thead>\n",
       "    <tr style=\"text-align: right;\">\n",
       "      <th></th>\n",
       "      <th>HD_POP_EXP</th>\n",
       "      <th>HD_TN_POP_EXP</th>\n",
       "      <th>ID_POP_EXP</th>\n",
       "      <th>UTCI_POP_EXP</th>\n",
       "      <th>TEMP_CHANGE</th>\n",
       "      <th>CF_BUILT_EXP</th>\n",
       "      <th>CF_POP_EXP</th>\n",
       "      <th>CF_CROP_EXP</th>\n",
       "      <th>ED_CROP_ANOM</th>\n",
       "      <th>99PT_LAND_EXP</th>\n",
       "      <th>...</th>\n",
       "      <th>FT_FORE_EXP</th>\n",
       "      <th>CY_BUILT_EXP</th>\n",
       "      <th>CY_POP_EXP</th>\n",
       "      <th>W_BUILT_EXP</th>\n",
       "      <th>W_POP_EXP</th>\n",
       "      <th>MEAN_POP</th>\n",
       "      <th>POP_EXP_POL</th>\n",
       "      <th>EP_LAND_EXP</th>\n",
       "      <th>Mean</th>\n",
       "      <th>Count</th>\n",
       "    </tr>\n",
       "    <tr>\n",
       "      <th>alpha-3</th>\n",
       "      <th></th>\n",
       "      <th></th>\n",
       "      <th></th>\n",
       "      <th></th>\n",
       "      <th></th>\n",
       "      <th></th>\n",
       "      <th></th>\n",
       "      <th></th>\n",
       "      <th></th>\n",
       "      <th></th>\n",
       "      <th></th>\n",
       "      <th></th>\n",
       "      <th></th>\n",
       "      <th></th>\n",
       "      <th></th>\n",
       "      <th></th>\n",
       "      <th></th>\n",
       "      <th></th>\n",
       "      <th></th>\n",
       "      <th></th>\n",
       "      <th></th>\n",
       "    </tr>\n",
       "  </thead>\n",
       "  <tbody>\n",
       "    <tr>\n",
       "      <th>MLI</th>\n",
       "      <td>0.5</td>\n",
       "      <td>0.5</td>\n",
       "      <td>2.0</td>\n",
       "      <td>1.0</td>\n",
       "      <td>4.0</td>\n",
       "      <td>NaN</td>\n",
       "      <td>NaN</td>\n",
       "      <td>NaN</td>\n",
       "      <td>8.5</td>\n",
       "      <td>3.0</td>\n",
       "      <td>...</td>\n",
       "      <td>0.5</td>\n",
       "      <td>0.5</td>\n",
       "      <td>3.5</td>\n",
       "      <td>6.0</td>\n",
       "      <td>5.5</td>\n",
       "      <td>0.5</td>\n",
       "      <td>0.5</td>\n",
       "      <td>5.5</td>\n",
       "      <td>2.727273</td>\n",
       "      <td>23</td>\n",
       "    </tr>\n",
       "    <tr>\n",
       "      <th>IND</th>\n",
       "      <td>1.0</td>\n",
       "      <td>1.0</td>\n",
       "      <td>2.0</td>\n",
       "      <td>1.0</td>\n",
       "      <td>7.0</td>\n",
       "      <td>3.0</td>\n",
       "      <td>6.0</td>\n",
       "      <td>3.5</td>\n",
       "      <td>0.5</td>\n",
       "      <td>1.0</td>\n",
       "      <td>...</td>\n",
       "      <td>3.0</td>\n",
       "      <td>3.5</td>\n",
       "      <td>3.0</td>\n",
       "      <td>7.5</td>\n",
       "      <td>5.5</td>\n",
       "      <td>1.0</td>\n",
       "      <td>1.5</td>\n",
       "      <td>3.0</td>\n",
       "      <td>2.780000</td>\n",
       "      <td>26</td>\n",
       "    </tr>\n",
       "    <tr>\n",
       "      <th>THA</th>\n",
       "      <td>2.5</td>\n",
       "      <td>2.5</td>\n",
       "      <td>2.0</td>\n",
       "      <td>3.0</td>\n",
       "      <td>6.0</td>\n",
       "      <td>1.0</td>\n",
       "      <td>2.5</td>\n",
       "      <td>2.5</td>\n",
       "      <td>2.5</td>\n",
       "      <td>5.0</td>\n",
       "      <td>...</td>\n",
       "      <td>5.5</td>\n",
       "      <td>2.0</td>\n",
       "      <td>1.5</td>\n",
       "      <td>8.0</td>\n",
       "      <td>8.5</td>\n",
       "      <td>2.0</td>\n",
       "      <td>2.0</td>\n",
       "      <td>2.0</td>\n",
       "      <td>3.020000</td>\n",
       "      <td>26</td>\n",
       "    </tr>\n",
       "    <tr>\n",
       "      <th>EGY</th>\n",
       "      <td>1.0</td>\n",
       "      <td>1.0</td>\n",
       "      <td>3.0</td>\n",
       "      <td>1.5</td>\n",
       "      <td>2.5</td>\n",
       "      <td>1.0</td>\n",
       "      <td>2.0</td>\n",
       "      <td>0.5</td>\n",
       "      <td>1.0</td>\n",
       "      <td>9.0</td>\n",
       "      <td>...</td>\n",
       "      <td>1.0</td>\n",
       "      <td>6.5</td>\n",
       "      <td>2.5</td>\n",
       "      <td>8.5</td>\n",
       "      <td>6.5</td>\n",
       "      <td>0.5</td>\n",
       "      <td>1.0</td>\n",
       "      <td>7.5</td>\n",
       "      <td>3.060000</td>\n",
       "      <td>26</td>\n",
       "    </tr>\n",
       "    <tr>\n",
       "      <th>IRQ</th>\n",
       "      <td>0.5</td>\n",
       "      <td>0.5</td>\n",
       "      <td>9.0</td>\n",
       "      <td>0.5</td>\n",
       "      <td>1.0</td>\n",
       "      <td>3.0</td>\n",
       "      <td>4.5</td>\n",
       "      <td>4.0</td>\n",
       "      <td>1.5</td>\n",
       "      <td>3.0</td>\n",
       "      <td>...</td>\n",
       "      <td>1.0</td>\n",
       "      <td>3.5</td>\n",
       "      <td>1.0</td>\n",
       "      <td>3.5</td>\n",
       "      <td>6.0</td>\n",
       "      <td>1.5</td>\n",
       "      <td>1.5</td>\n",
       "      <td>6.5</td>\n",
       "      <td>3.200000</td>\n",
       "      <td>26</td>\n",
       "    </tr>\n",
       "    <tr>\n",
       "      <th>...</th>\n",
       "      <td>...</td>\n",
       "      <td>...</td>\n",
       "      <td>...</td>\n",
       "      <td>...</td>\n",
       "      <td>...</td>\n",
       "      <td>...</td>\n",
       "      <td>...</td>\n",
       "      <td>...</td>\n",
       "      <td>...</td>\n",
       "      <td>...</td>\n",
       "      <td>...</td>\n",
       "      <td>...</td>\n",
       "      <td>...</td>\n",
       "      <td>...</td>\n",
       "      <td>...</td>\n",
       "      <td>...</td>\n",
       "      <td>...</td>\n",
       "      <td>...</td>\n",
       "      <td>...</td>\n",
       "      <td>...</td>\n",
       "      <td>...</td>\n",
       "    </tr>\n",
       "    <tr>\n",
       "      <th>MAF</th>\n",
       "      <td>9.5</td>\n",
       "      <td>4.5</td>\n",
       "      <td>7.0</td>\n",
       "      <td>NaN</td>\n",
       "      <td>9.5</td>\n",
       "      <td>NaN</td>\n",
       "      <td>NaN</td>\n",
       "      <td>NaN</td>\n",
       "      <td>NaN</td>\n",
       "      <td>10.0</td>\n",
       "      <td>...</td>\n",
       "      <td>7.0</td>\n",
       "      <td>NaN</td>\n",
       "      <td>NaN</td>\n",
       "      <td>NaN</td>\n",
       "      <td>NaN</td>\n",
       "      <td>NaN</td>\n",
       "      <td>NaN</td>\n",
       "      <td>9.0</td>\n",
       "      <td>7.900000</td>\n",
       "      <td>11</td>\n",
       "    </tr>\n",
       "    <tr>\n",
       "      <th>BES</th>\n",
       "      <td>8.0</td>\n",
       "      <td>7.0</td>\n",
       "      <td>5.5</td>\n",
       "      <td>NaN</td>\n",
       "      <td>9.0</td>\n",
       "      <td>NaN</td>\n",
       "      <td>NaN</td>\n",
       "      <td>NaN</td>\n",
       "      <td>NaN</td>\n",
       "      <td>6.0</td>\n",
       "      <td>...</td>\n",
       "      <td>9.5</td>\n",
       "      <td>NaN</td>\n",
       "      <td>NaN</td>\n",
       "      <td>NaN</td>\n",
       "      <td>NaN</td>\n",
       "      <td>NaN</td>\n",
       "      <td>NaN</td>\n",
       "      <td>7.5</td>\n",
       "      <td>7.950000</td>\n",
       "      <td>11</td>\n",
       "    </tr>\n",
       "    <tr>\n",
       "      <th>MSR</th>\n",
       "      <td>10.0</td>\n",
       "      <td>10.0</td>\n",
       "      <td>2.5</td>\n",
       "      <td>8.0</td>\n",
       "      <td>10.0</td>\n",
       "      <td>NaN</td>\n",
       "      <td>10.0</td>\n",
       "      <td>9.5</td>\n",
       "      <td>NaN</td>\n",
       "      <td>7.5</td>\n",
       "      <td>...</td>\n",
       "      <td>8.5</td>\n",
       "      <td>NaN</td>\n",
       "      <td>6.5</td>\n",
       "      <td>NaN</td>\n",
       "      <td>7.5</td>\n",
       "      <td>9.0</td>\n",
       "      <td>8.5</td>\n",
       "      <td>8.5</td>\n",
       "      <td>8.100000</td>\n",
       "      <td>21</td>\n",
       "    </tr>\n",
       "    <tr>\n",
       "      <th>FLK</th>\n",
       "      <td>8.0</td>\n",
       "      <td>8.5</td>\n",
       "      <td>10.0</td>\n",
       "      <td>NaN</td>\n",
       "      <td>10.0</td>\n",
       "      <td>NaN</td>\n",
       "      <td>NaN</td>\n",
       "      <td>NaN</td>\n",
       "      <td>NaN</td>\n",
       "      <td>6.5</td>\n",
       "      <td>...</td>\n",
       "      <td>7.5</td>\n",
       "      <td>NaN</td>\n",
       "      <td>NaN</td>\n",
       "      <td>NaN</td>\n",
       "      <td>NaN</td>\n",
       "      <td>NaN</td>\n",
       "      <td>NaN</td>\n",
       "      <td>9.0</td>\n",
       "      <td>8.200000</td>\n",
       "      <td>11</td>\n",
       "    </tr>\n",
       "    <tr>\n",
       "      <th>AIA</th>\n",
       "      <td>9.5</td>\n",
       "      <td>6.0</td>\n",
       "      <td>9.5</td>\n",
       "      <td>5.5</td>\n",
       "      <td>9.5</td>\n",
       "      <td>9.5</td>\n",
       "      <td>10.0</td>\n",
       "      <td>8.0</td>\n",
       "      <td>NaN</td>\n",
       "      <td>3.5</td>\n",
       "      <td>...</td>\n",
       "      <td>10.0</td>\n",
       "      <td>8.5</td>\n",
       "      <td>3.0</td>\n",
       "      <td>9.5</td>\n",
       "      <td>7.5</td>\n",
       "      <td>9.0</td>\n",
       "      <td>10.0</td>\n",
       "      <td>9.0</td>\n",
       "      <td>8.333333</td>\n",
       "      <td>25</td>\n",
       "    </tr>\n",
       "  </tbody>\n",
       "</table>\n",
       "<p>247 rows × 27 columns</p>\n",
       "</div>"
      ],
      "text/plain": [
       "         HD_POP_EXP  HD_TN_POP_EXP  ID_POP_EXP  UTCI_POP_EXP  TEMP_CHANGE  \\\n",
       "alpha-3                                                                     \n",
       "MLI             0.5            0.5         2.0           1.0          4.0   \n",
       "IND             1.0            1.0         2.0           1.0          7.0   \n",
       "THA             2.5            2.5         2.0           3.0          6.0   \n",
       "EGY             1.0            1.0         3.0           1.5          2.5   \n",
       "IRQ             0.5            0.5         9.0           0.5          1.0   \n",
       "...             ...            ...         ...           ...          ...   \n",
       "MAF             9.5            4.5         7.0           NaN          9.5   \n",
       "BES             8.0            7.0         5.5           NaN          9.0   \n",
       "MSR            10.0           10.0         2.5           8.0         10.0   \n",
       "FLK             8.0            8.5        10.0           NaN         10.0   \n",
       "AIA             9.5            6.0         9.5           5.5          9.5   \n",
       "\n",
       "         CF_BUILT_EXP  CF_POP_EXP  CF_CROP_EXP  ED_CROP_ANOM  99PT_LAND_EXP  \\\n",
       "alpha-3                                                                       \n",
       "MLI               NaN         NaN          NaN           8.5            3.0   \n",
       "IND               3.0         6.0          3.5           0.5            1.0   \n",
       "THA               1.0         2.5          2.5           2.5            5.0   \n",
       "EGY               1.0         2.0          0.5           1.0            9.0   \n",
       "IRQ               3.0         4.5          4.0           1.5            3.0   \n",
       "...               ...         ...          ...           ...            ...   \n",
       "MAF               NaN         NaN          NaN           NaN           10.0   \n",
       "BES               NaN         NaN          NaN           NaN            6.0   \n",
       "MSR               NaN        10.0          9.5           NaN            7.5   \n",
       "FLK               NaN         NaN          NaN           NaN            6.5   \n",
       "AIA               9.5        10.0          8.0           NaN            3.5   \n",
       "\n",
       "         ...  FT_FORE_EXP  CY_BUILT_EXP  CY_POP_EXP  W_BUILT_EXP  W_POP_EXP  \\\n",
       "alpha-3  ...                                                                  \n",
       "MLI      ...          0.5           0.5         3.5          6.0        5.5   \n",
       "IND      ...          3.0           3.5         3.0          7.5        5.5   \n",
       "THA      ...          5.5           2.0         1.5          8.0        8.5   \n",
       "EGY      ...          1.0           6.5         2.5          8.5        6.5   \n",
       "IRQ      ...          1.0           3.5         1.0          3.5        6.0   \n",
       "...      ...          ...           ...         ...          ...        ...   \n",
       "MAF      ...          7.0           NaN         NaN          NaN        NaN   \n",
       "BES      ...          9.5           NaN         NaN          NaN        NaN   \n",
       "MSR      ...          8.5           NaN         6.5          NaN        7.5   \n",
       "FLK      ...          7.5           NaN         NaN          NaN        NaN   \n",
       "AIA      ...         10.0           8.5         3.0          9.5        7.5   \n",
       "\n",
       "         MEAN_POP  POP_EXP_POL  EP_LAND_EXP      Mean  Count  \n",
       "alpha-3                                                       \n",
       "MLI           0.5          0.5          5.5  2.727273     23  \n",
       "IND           1.0          1.5          3.0  2.780000     26  \n",
       "THA           2.0          2.0          2.0  3.020000     26  \n",
       "EGY           0.5          1.0          7.5  3.060000     26  \n",
       "IRQ           1.5          1.5          6.5  3.200000     26  \n",
       "...           ...          ...          ...       ...    ...  \n",
       "MAF           NaN          NaN          9.0  7.900000     11  \n",
       "BES           NaN          NaN          7.5  7.950000     11  \n",
       "MSR           9.0          8.5          8.5  8.100000     21  \n",
       "FLK           NaN          NaN          9.0  8.200000     11  \n",
       "AIA           9.0         10.0          9.0  8.333333     25  \n",
       "\n",
       "[247 rows x 27 columns]"
      ]
     },
     "execution_count": 3,
     "metadata": {},
     "output_type": "execute_result"
    }
   ],
   "source": [
    "for cat in df_v[\"Category\"].unique():\n",
    "    data   = data_0.copy()\n",
    "    data_q = data_0.copy()\n",
    "\n",
    "    for row in df_v[ (df_v[\"Category\"] == cat) ].itertuples():\n",
    "\n",
    "        v = row.Variable\n",
    "        if row.Origin == \"World Bank\": nr = 3\n",
    "        else: nr = 0\n",
    "        \n",
    "        df = pd.read_csv( \"../../\"\n",
    "            + df_c.loc[df_c[\"ID\"]==row.ID, \"Path\"].iloc[0]\n",
    "            + df_c.loc[df_c[\"ID\"]==row.ID, \"Filename\" ].iloc[0],\n",
    "            skiprows = nr, low_memory = False )\n",
    "        \n",
    "        if row.Origin == \"OECD\":\n",
    "            df = df[ df[\"MEASURE\"] == v ]\n",
    "            df = df.rename(columns = {\"REF_AREA\": ix})\n",
    "            df = df[ df[ix].isin(df_iso.index) ]\n",
    "            \n",
    "            df_i = df[ (df[\"MEASURE\"]==v) ]\n",
    "            \n",
    "            if v == \"POP_NETMIGR\":\n",
    "                df_i[\"OBS_VALUE\"] = np.abs( df_i[\"OBS_VALUE\"] )\n",
    "            \n",
    "            elif v in [\"HD_POP_EXP\", \"HD_TN_POP_EXP\", \"ID_POP_EXP\",\n",
    "                \"99PT_LAND_EXP\", \"99PT_CROP_EXP\", \"EP_LAND_EXP\"]:\n",
    "                df_i = df_i[ (df_i[\"DURATION\"]==row.DURATION) ]\n",
    "            elif v in [\"TEMP_CHANGE\", \"ED_CROP_ANOM\", \"EP_CHANGE\"]:\n",
    "                df_i = df_i.set_index(ix)\n",
    "                df_i[\"OBS_VALUE\"] = df_i.reset_index()[\n",
    "                    [ix, \"OBS_VALUE\"] ].groupby(ix).mean()\n",
    "                df_i = df_i.reset_index()\n",
    "            elif v == \"UTCI_POP_EXP\":\n",
    "                df_i = df_i[ (df_i[\"HEAT_STRESS\"]==row.HEAT_STRESS) ]\n",
    "            elif v in [\"CF_BUILT_EXP\", \"CF_POP_EXP\", \"CF_CROP_EXP\",\n",
    "                \"RF_BUILT_EXP\", \"RF_POP_EXP\", \"RF_CROP_EXP\"]:\n",
    "                df_i = df_i[ (df_i[\"RET_PERIOD\"]==row.RET_PERIOD) ]\n",
    "            elif v == \"BURN_LAND_AREA\":\n",
    "                df_i = df_i[ (df_i[\"UNIT_MEASURE\"]==row.UNIT_MEASURE) ]\n",
    "            elif v in [\"CY_BUILT_EXP\", \"CY_POP_EXP\"]:\n",
    "                df_i = df_i[\n",
    "                    (df[\"HURRICANE_WIND_SCALE\"]==row.HURRICANE_WIND_SCALE) ]\n",
    "            elif v == \"POP_EXP_POL\":\n",
    "                df_i = df_i[ (df_i[\"EXPOSURE_LEVEL\"]==row.EXPOSURE_LEVEL) ]\n",
    "\n",
    "            elif v == \"ECRATE\":\n",
    "                df_i = df_i[ (df_i[\"SECTOR\"]==row.SECTOR)\n",
    "                & (df[\"EMISSIONS_SOURCE\"]==row.EMISSIONS_SOURCE) ]\n",
    "            elif v in [\"GPAT_DE\", \"WATER_FW\"]:\n",
    "                df_i = df_i[ (df_i[\"UNIT_MEASURE\"]==row.UNIT_MEASURE) ]\n",
    "            \n",
    "            data[v] = df_i.sort_values( [ix, \"TIME_PERIOD\"]\n",
    "                ).drop_duplicates(ix, keep=\"last\").set_index(ix)[\"OBS_VALUE\"]\n",
    "\n",
    "        elif row.Origin == \"Global Data Lab\":\n",
    "            df = df.rename(columns = {\"ISO_Code\": ix})\n",
    "            df = df[ df[ix].isin(df_iso.index) ]\n",
    "            data[v] = df[ df[\"Level\"] == \"National\" ].set_index(ix)[v]\n",
    "        \n",
    "        elif row.Origin == \"World Bank\":\n",
    "            df = df.rename(columns = {\"Country Code\": ix})\n",
    "            df = df[ df[ix].isin(df_iso.index) ]\n",
    "            data[v] = df.set_index(ix).iloc[ :, 4:-1\n",
    "                ].ffill(axis = 1).iloc[:, -1]\n",
    "        \n",
    "        elif row.Origin == \"UNESCO UIS\":\n",
    "            if row.ID in [\"DEM\", \"SCN-SDG\", \"SDG11\"]:\n",
    "                df.columns = [ x.lower() for x in df.columns ]\n",
    "            df = df.rename(columns = {\"country_id\": ix})\n",
    "            df = df[ df[ix].isin(df_iso.index) ]\n",
    "            if row.PERCENTAGE == \"Yes\": pop = data[\"200101\"]\n",
    "            else: pop = 1\n",
    "            data[v] = ( df[ df[\"indicator_id\"]==v ].sort_values( [ix, \"year\"]\n",
    "                ).drop_duplicates(ix, keep=\"last\"\n",
    "                ).set_index(ix)[\"value\"] / pop )\n",
    "        \n",
    "        # corregir random\n",
    "        data_q[v] = ( 1 + pd.qcut( data[v]\n",
    "            + np.random.random(data[v].shape[0])/10000, 20, labels = False ) )\n",
    "        if row.Negative_indicator:\n",
    "            data_q[v] = 21 - data_q[v]\n",
    "\n",
    "    data_q = data_q / 2\n",
    "    data_q[\"Mean\"] = data_q.mean(axis = 1)\n",
    "    data_q[\"Count\"] = data_q.count(axis = 1)\n",
    "    data_q = data_q[ data_q[\"Count\"] > 1 ].sort_values(\"Mean\")\n",
    "\n",
    "    if   cat == df_v[\"Category\"].unique()[0]:\n",
    "        data_q_s = data_q.copy()\n",
    "        data_s   = data.copy()\n",
    "        data_q_s.to_csv(\"../results/Deciles_Socioeconomico.csv\", index = True)\n",
    "        data_c.to_csv(\"../results/Valores_Socioeconomico.csv\", index = True)\n",
    "    elif cat == df_v[\"Category\"].unique()[1]:\n",
    "        data_q_c = data_q.copy()\n",
    "        data_c   = data.copy()\n",
    "        data_q_c.to_csv(\"../results/Deciles_Climatico.csv\", index = True)\n",
    "        data_c.to_csv(\"../results/Valores_Climatico.csv\", index = True)\n",
    "    elif cat == df_v[\"Category\"].unique()[2]:\n",
    "        data_q_g = data_q.copy()\n",
    "        data_g   = data.copy()\n",
    "        data_q_g.to_csv(\"../results/Deciles_Gobernanza.csv\", index = True)\n",
    "        data_g.to_csv(\"../results/Valores_Gobernanza.csv\", index = True)\n",
    "\n",
    "data_q_c"
   ]
  },
  {
   "cell_type": "code",
   "execution_count": 4,
   "metadata": {},
   "outputs": [
    {
     "data": {
      "text/html": [
       "<div>\n",
       "<style scoped>\n",
       "    .dataframe tbody tr th:only-of-type {\n",
       "        vertical-align: middle;\n",
       "    }\n",
       "\n",
       "    .dataframe tbody tr th {\n",
       "        vertical-align: top;\n",
       "    }\n",
       "\n",
       "    .dataframe thead th {\n",
       "        text-align: right;\n",
       "    }\n",
       "</style>\n",
       "<table border=\"1\" class=\"dataframe\">\n",
       "  <thead>\n",
       "    <tr style=\"text-align: right;\">\n",
       "      <th></th>\n",
       "      <th>name</th>\n",
       "      <th>Net Zero Rating</th>\n",
       "      <th>alpha-2</th>\n",
       "      <th>Socioeconomic resilience</th>\n",
       "      <th>Climate resilience</th>\n",
       "      <th>Governance resilience</th>\n",
       "    </tr>\n",
       "    <tr>\n",
       "      <th>alpha-3</th>\n",
       "      <th></th>\n",
       "      <th></th>\n",
       "      <th></th>\n",
       "      <th></th>\n",
       "      <th></th>\n",
       "      <th></th>\n",
       "    </tr>\n",
       "  </thead>\n",
       "  <tbody>\n",
       "    <tr>\n",
       "      <th>ARG</th>\n",
       "      <td>Argentina</td>\n",
       "      <td>Poor</td>\n",
       "      <td>AR</td>\n",
       "      <td>5.617647</td>\n",
       "      <td>3.720000</td>\n",
       "      <td>5.555556</td>\n",
       "    </tr>\n",
       "    <tr>\n",
       "      <th>AUS</th>\n",
       "      <td>Australia</td>\n",
       "      <td>Poor</td>\n",
       "      <td>AU</td>\n",
       "      <td>6.394737</td>\n",
       "      <td>4.960000</td>\n",
       "      <td>5.240000</td>\n",
       "    </tr>\n",
       "    <tr>\n",
       "      <th>BTN</th>\n",
       "      <td>Bhutan</td>\n",
       "      <td>Information incomplete</td>\n",
       "      <td>BT</td>\n",
       "      <td>5.978261</td>\n",
       "      <td>5.136364</td>\n",
       "      <td>3.687500</td>\n",
       "    </tr>\n",
       "    <tr>\n",
       "      <th>BRA</th>\n",
       "      <td>Brazil</td>\n",
       "      <td>Information incomplete</td>\n",
       "      <td>BR</td>\n",
       "      <td>5.812500</td>\n",
       "      <td>4.600000</td>\n",
       "      <td>5.880952</td>\n",
       "    </tr>\n",
       "    <tr>\n",
       "      <th>CAN</th>\n",
       "      <td>Canada</td>\n",
       "      <td>Average</td>\n",
       "      <td>CA</td>\n",
       "      <td>6.138889</td>\n",
       "      <td>4.360000</td>\n",
       "      <td>5.108696</td>\n",
       "    </tr>\n",
       "    <tr>\n",
       "      <th>CHL</th>\n",
       "      <td>Chile</td>\n",
       "      <td>Acceptable</td>\n",
       "      <td>CL</td>\n",
       "      <td>5.913043</td>\n",
       "      <td>4.980000</td>\n",
       "      <td>6.204545</td>\n",
       "    </tr>\n",
       "    <tr>\n",
       "      <th>CHN</th>\n",
       "      <td>China</td>\n",
       "      <td>Poor</td>\n",
       "      <td>CN</td>\n",
       "      <td>4.956522</td>\n",
       "      <td>3.720000</td>\n",
       "      <td>4.976190</td>\n",
       "    </tr>\n",
       "    <tr>\n",
       "      <th>COL</th>\n",
       "      <td>Colombia</td>\n",
       "      <td>Acceptable</td>\n",
       "      <td>CO</td>\n",
       "      <td>4.680000</td>\n",
       "      <td>4.780000</td>\n",
       "      <td>6.086957</td>\n",
       "    </tr>\n",
       "    <tr>\n",
       "      <th>CRI</th>\n",
       "      <td>Costa Rica</td>\n",
       "      <td>Acceptable</td>\n",
       "      <td>CR</td>\n",
       "      <td>6.520000</td>\n",
       "      <td>5.180000</td>\n",
       "      <td>5.434783</td>\n",
       "    </tr>\n",
       "    <tr>\n",
       "      <th>ETH</th>\n",
       "      <td>Ethiopia</td>\n",
       "      <td>Information incomplete</td>\n",
       "      <td>ET</td>\n",
       "      <td>3.120000</td>\n",
       "      <td>4.886364</td>\n",
       "      <td>6.285714</td>\n",
       "    </tr>\n",
       "    <tr>\n",
       "      <th>GMB</th>\n",
       "      <td>Gambia</td>\n",
       "      <td>Poor</td>\n",
       "      <td>GM</td>\n",
       "      <td>3.812500</td>\n",
       "      <td>4.040000</td>\n",
       "      <td>4.187500</td>\n",
       "    </tr>\n",
       "    <tr>\n",
       "      <th>DEU</th>\n",
       "      <td>Germany</td>\n",
       "      <td>Average</td>\n",
       "      <td>DE</td>\n",
       "      <td>6.184211</td>\n",
       "      <td>4.700000</td>\n",
       "      <td>5.652174</td>\n",
       "    </tr>\n",
       "    <tr>\n",
       "      <th>IND</th>\n",
       "      <td>India</td>\n",
       "      <td>Poor</td>\n",
       "      <td>IN</td>\n",
       "      <td>4.660000</td>\n",
       "      <td>2.780000</td>\n",
       "      <td>5.605263</td>\n",
       "    </tr>\n",
       "    <tr>\n",
       "      <th>IDN</th>\n",
       "      <td>Indonesia</td>\n",
       "      <td>Information incomplete</td>\n",
       "      <td>ID</td>\n",
       "      <td>5.220000</td>\n",
       "      <td>4.360000</td>\n",
       "      <td>5.944444</td>\n",
       "    </tr>\n",
       "    <tr>\n",
       "      <th>JPN</th>\n",
       "      <td>Japan</td>\n",
       "      <td>Poor</td>\n",
       "      <td>JP</td>\n",
       "      <td>6.261905</td>\n",
       "      <td>4.000000</td>\n",
       "      <td>4.673913</td>\n",
       "    </tr>\n",
       "    <tr>\n",
       "      <th>KAZ</th>\n",
       "      <td>Kazakhstan</td>\n",
       "      <td>Poor</td>\n",
       "      <td>KZ</td>\n",
       "      <td>6.540000</td>\n",
       "      <td>3.977273</td>\n",
       "      <td>4.433333</td>\n",
       "    </tr>\n",
       "    <tr>\n",
       "      <th>KOR</th>\n",
       "      <td>Korea, Republic of</td>\n",
       "      <td>Average</td>\n",
       "      <td>KR</td>\n",
       "      <td>6.472222</td>\n",
       "      <td>4.500000</td>\n",
       "      <td>4.956522</td>\n",
       "    </tr>\n",
       "    <tr>\n",
       "      <th>MAR</th>\n",
       "      <td>Morocco</td>\n",
       "      <td>Information incomplete</td>\n",
       "      <td>MA</td>\n",
       "      <td>4.428571</td>\n",
       "      <td>5.040000</td>\n",
       "      <td>6.500000</td>\n",
       "    </tr>\n",
       "    <tr>\n",
       "      <th>NPL</th>\n",
       "      <td>Nepal</td>\n",
       "      <td>Average</td>\n",
       "      <td>NP</td>\n",
       "      <td>4.652174</td>\n",
       "      <td>3.431818</td>\n",
       "      <td>5.000000</td>\n",
       "    </tr>\n",
       "    <tr>\n",
       "      <th>NZL</th>\n",
       "      <td>New Zealand</td>\n",
       "      <td>Poor</td>\n",
       "      <td>NZ</td>\n",
       "      <td>6.735294</td>\n",
       "      <td>4.760000</td>\n",
       "      <td>5.725000</td>\n",
       "    </tr>\n",
       "    <tr>\n",
       "      <th>NGA</th>\n",
       "      <td>Nigeria</td>\n",
       "      <td>Average</td>\n",
       "      <td>NG</td>\n",
       "      <td>3.160000</td>\n",
       "      <td>4.200000</td>\n",
       "      <td>5.000000</td>\n",
       "    </tr>\n",
       "    <tr>\n",
       "      <th>PER</th>\n",
       "      <td>Peru</td>\n",
       "      <td>Information incomplete</td>\n",
       "      <td>PE</td>\n",
       "      <td>5.600000</td>\n",
       "      <td>5.120000</td>\n",
       "      <td>5.352941</td>\n",
       "    </tr>\n",
       "    <tr>\n",
       "      <th>RUS</th>\n",
       "      <td>Russian Federation</td>\n",
       "      <td>Poor</td>\n",
       "      <td>RU</td>\n",
       "      <td>6.695652</td>\n",
       "      <td>4.120000</td>\n",
       "      <td>5.025000</td>\n",
       "    </tr>\n",
       "    <tr>\n",
       "      <th>SAU</th>\n",
       "      <td>Saudi Arabia</td>\n",
       "      <td>Poor</td>\n",
       "      <td>SA</td>\n",
       "      <td>5.700000</td>\n",
       "      <td>4.700000</td>\n",
       "      <td>4.366667</td>\n",
       "    </tr>\n",
       "    <tr>\n",
       "      <th>SGP</th>\n",
       "      <td>Singapore</td>\n",
       "      <td>Poor</td>\n",
       "      <td>SG</td>\n",
       "      <td>6.187500</td>\n",
       "      <td>6.320000</td>\n",
       "      <td>3.884615</td>\n",
       "    </tr>\n",
       "    <tr>\n",
       "      <th>ZAF</th>\n",
       "      <td>South Africa</td>\n",
       "      <td>Information incomplete</td>\n",
       "      <td>ZA</td>\n",
       "      <td>5.020000</td>\n",
       "      <td>5.040000</td>\n",
       "      <td>4.800000</td>\n",
       "    </tr>\n",
       "    <tr>\n",
       "      <th>CHE</th>\n",
       "      <td>Switzerland</td>\n",
       "      <td>Average</td>\n",
       "      <td>CH</td>\n",
       "      <td>6.710526</td>\n",
       "      <td>4.590909</td>\n",
       "      <td>5.875000</td>\n",
       "    </tr>\n",
       "    <tr>\n",
       "      <th>THA</th>\n",
       "      <td>Thailand</td>\n",
       "      <td>Average</td>\n",
       "      <td>TH</td>\n",
       "      <td>5.500000</td>\n",
       "      <td>3.020000</td>\n",
       "      <td>5.461538</td>\n",
       "    </tr>\n",
       "    <tr>\n",
       "      <th>TUR</th>\n",
       "      <td>Türkiye</td>\n",
       "      <td>Poor</td>\n",
       "      <td>TR</td>\n",
       "      <td>5.000000</td>\n",
       "      <td>3.620000</td>\n",
       "      <td>5.309524</td>\n",
       "    </tr>\n",
       "    <tr>\n",
       "      <th>ARE</th>\n",
       "      <td>United Arab Emirates</td>\n",
       "      <td>Poor</td>\n",
       "      <td>AE</td>\n",
       "      <td>7.176471</td>\n",
       "      <td>4.340000</td>\n",
       "      <td>3.666667</td>\n",
       "    </tr>\n",
       "    <tr>\n",
       "      <th>GBR</th>\n",
       "      <td>United Kingdom of Great Britain and Northern I...</td>\n",
       "      <td>Acceptable</td>\n",
       "      <td>GB</td>\n",
       "      <td>6.638889</td>\n",
       "      <td>4.720000</td>\n",
       "      <td>6.239130</td>\n",
       "    </tr>\n",
       "    <tr>\n",
       "      <th>USA</th>\n",
       "      <td>United States of America</td>\n",
       "      <td>Average</td>\n",
       "      <td>US</td>\n",
       "      <td>6.428571</td>\n",
       "      <td>4.280000</td>\n",
       "      <td>4.304348</td>\n",
       "    </tr>\n",
       "    <tr>\n",
       "      <th>VNM</th>\n",
       "      <td>Viet Nam</td>\n",
       "      <td>Average</td>\n",
       "      <td>VN</td>\n",
       "      <td>5.312500</td>\n",
       "      <td>3.600000</td>\n",
       "      <td>5.321429</td>\n",
       "    </tr>\n",
       "  </tbody>\n",
       "</table>\n",
       "</div>"
      ],
      "text/plain": [
       "                                                      name  \\\n",
       "alpha-3                                                      \n",
       "ARG                                              Argentina   \n",
       "AUS                                              Australia   \n",
       "BTN                                                 Bhutan   \n",
       "BRA                                                 Brazil   \n",
       "CAN                                                 Canada   \n",
       "CHL                                                  Chile   \n",
       "CHN                                                  China   \n",
       "COL                                               Colombia   \n",
       "CRI                                             Costa Rica   \n",
       "ETH                                               Ethiopia   \n",
       "GMB                                                 Gambia   \n",
       "DEU                                                Germany   \n",
       "IND                                                  India   \n",
       "IDN                                              Indonesia   \n",
       "JPN                                                  Japan   \n",
       "KAZ                                             Kazakhstan   \n",
       "KOR                                     Korea, Republic of   \n",
       "MAR                                                Morocco   \n",
       "NPL                                                  Nepal   \n",
       "NZL                                            New Zealand   \n",
       "NGA                                                Nigeria   \n",
       "PER                                                   Peru   \n",
       "RUS                                     Russian Federation   \n",
       "SAU                                           Saudi Arabia   \n",
       "SGP                                              Singapore   \n",
       "ZAF                                           South Africa   \n",
       "CHE                                            Switzerland   \n",
       "THA                                               Thailand   \n",
       "TUR                                                Türkiye   \n",
       "ARE                                   United Arab Emirates   \n",
       "GBR      United Kingdom of Great Britain and Northern I...   \n",
       "USA                               United States of America   \n",
       "VNM                                               Viet Nam   \n",
       "\n",
       "                Net Zero Rating alpha-2  Socioeconomic resilience  \\\n",
       "alpha-3                                                             \n",
       "ARG                        Poor      AR                  5.617647   \n",
       "AUS                        Poor      AU                  6.394737   \n",
       "BTN      Information incomplete      BT                  5.978261   \n",
       "BRA      Information incomplete      BR                  5.812500   \n",
       "CAN                     Average      CA                  6.138889   \n",
       "CHL                  Acceptable      CL                  5.913043   \n",
       "CHN                        Poor      CN                  4.956522   \n",
       "COL                  Acceptable      CO                  4.680000   \n",
       "CRI                  Acceptable      CR                  6.520000   \n",
       "ETH      Information incomplete      ET                  3.120000   \n",
       "GMB                        Poor      GM                  3.812500   \n",
       "DEU                     Average      DE                  6.184211   \n",
       "IND                        Poor      IN                  4.660000   \n",
       "IDN      Information incomplete      ID                  5.220000   \n",
       "JPN                        Poor      JP                  6.261905   \n",
       "KAZ                        Poor      KZ                  6.540000   \n",
       "KOR                     Average      KR                  6.472222   \n",
       "MAR      Information incomplete      MA                  4.428571   \n",
       "NPL                     Average      NP                  4.652174   \n",
       "NZL                        Poor      NZ                  6.735294   \n",
       "NGA                     Average      NG                  3.160000   \n",
       "PER      Information incomplete      PE                  5.600000   \n",
       "RUS                        Poor      RU                  6.695652   \n",
       "SAU                        Poor      SA                  5.700000   \n",
       "SGP                        Poor      SG                  6.187500   \n",
       "ZAF      Information incomplete      ZA                  5.020000   \n",
       "CHE                     Average      CH                  6.710526   \n",
       "THA                     Average      TH                  5.500000   \n",
       "TUR                        Poor      TR                  5.000000   \n",
       "ARE                        Poor      AE                  7.176471   \n",
       "GBR                  Acceptable      GB                  6.638889   \n",
       "USA                     Average      US                  6.428571   \n",
       "VNM                     Average      VN                  5.312500   \n",
       "\n",
       "         Climate resilience  Governance resilience  \n",
       "alpha-3                                             \n",
       "ARG                3.720000               5.555556  \n",
       "AUS                4.960000               5.240000  \n",
       "BTN                5.136364               3.687500  \n",
       "BRA                4.600000               5.880952  \n",
       "CAN                4.360000               5.108696  \n",
       "CHL                4.980000               6.204545  \n",
       "CHN                3.720000               4.976190  \n",
       "COL                4.780000               6.086957  \n",
       "CRI                5.180000               5.434783  \n",
       "ETH                4.886364               6.285714  \n",
       "GMB                4.040000               4.187500  \n",
       "DEU                4.700000               5.652174  \n",
       "IND                2.780000               5.605263  \n",
       "IDN                4.360000               5.944444  \n",
       "JPN                4.000000               4.673913  \n",
       "KAZ                3.977273               4.433333  \n",
       "KOR                4.500000               4.956522  \n",
       "MAR                5.040000               6.500000  \n",
       "NPL                3.431818               5.000000  \n",
       "NZL                4.760000               5.725000  \n",
       "NGA                4.200000               5.000000  \n",
       "PER                5.120000               5.352941  \n",
       "RUS                4.120000               5.025000  \n",
       "SAU                4.700000               4.366667  \n",
       "SGP                6.320000               3.884615  \n",
       "ZAF                5.040000               4.800000  \n",
       "CHE                4.590909               5.875000  \n",
       "THA                3.020000               5.461538  \n",
       "TUR                3.620000               5.309524  \n",
       "ARE                4.340000               3.666667  \n",
       "GBR                4.720000               6.239130  \n",
       "USA                4.280000               4.304348  \n",
       "VNM                3.600000               5.321429  "
      ]
     },
     "execution_count": 4,
     "metadata": {},
     "output_type": "execute_result"
    }
   ],
   "source": [
    "res_names = [ \"Socioeconomic resilience\",\n",
    "    \"Climate resilience\", \"Governance resilience\" ]\n",
    "\n",
    "df_iso[ res_names[0]  ] = data_q_s.loc[\n",
    "    data_q_s[\"Count\"] > 11, \"Mean\" ]\n",
    "df_iso[ res_names[1]  ] = data_q_c.loc[\n",
    "    data_q_c[\"Count\"] > 11, \"Mean\" ]\n",
    "df_iso[ res_names[2]  ] = data_q_g.loc[\n",
    "    data_q_g[\"Count\"] > 3, \"Mean\" ]\n",
    "\n",
    "df_nz = pd.read_csv( \"../../\" +\n",
    "    df_c.loc[ df_c[\"Origin\"]==\"Climate Action Tracker\", \"Path\" ].iloc[1] +\n",
    "    df_c.loc[ df_c[\"Origin\"]==\"Climate Action Tracker\", \"Filename\" ].iloc[1],\n",
    "    usecols = [\"ISO\", \"Overall Rating\"] )\n",
    "df_nz = df_nz.rename( columns = {\"ISO\": ix} ).set_index(ix)\n",
    "df_iso[\"Net Zero Rating\"] = df_nz[\"Overall Rating\"]\n",
    "df_iso[\"Net Zero Rating\"] = df_iso[\"Net Zero Rating\"].where(\n",
    "    ~df_iso[\"Net Zero Rating\"].isnull(), \"No target\" )\n",
    "\n",
    "df_res = df_iso.drop( [\"country-code\", \"iso_3166-2\", \"intermediate-region\",\n",
    "    \"region-code\", \"sub-region-code\", \"intermediate-region-code\"], axis = 1 )\n",
    "\n",
    "df_res\n",
    "\n",
    "df_rnz = df_res.loc[ df_res[\"Net Zero Rating\"] != \"No target\",\n",
    "    [\"name\", \"Net Zero Rating\", \"alpha-2\"] + res_names ]\n",
    "\n",
    "df_rnz.to_csv( \"../results/resumen_categorias.csv\", index = True )\n",
    "\n",
    "df_rnz"
   ]
  },
  {
   "cell_type": "code",
   "execution_count": 5,
   "metadata": {},
   "outputs": [
    {
     "data": {
      "application/vnd.plotly.v1+json": {
       "config": {
        "plotlyServerURL": "https://plot.ly"
       },
       "data": [
        {
         "customdata": [
          [
           3.69,
           "Information incomplete"
          ],
          [
           5.88,
           "Information incomplete"
          ],
          [
           6.29,
           "Information incomplete"
          ],
          [
           5.94,
           "Information incomplete"
          ],
          [
           6.5,
           "Information incomplete"
          ],
          [
           5.35,
           "Information incomplete"
          ],
          [
           4.8,
           "Information incomplete"
          ]
         ],
         "hovertemplate": "<b>%{hovertext}</b><br><br>Net Zero Rating=%{customdata[1]}<br>Socioeconomic resilience=%{x}<br>Climate resilience=%{y}<br>Governance resilience=%{customdata[0]}<extra></extra>",
         "hovertext": [
          "Bhutan",
          "Brazil",
          "Ethiopia",
          "Indonesia",
          "Morocco",
          "Peru",
          "South Africa"
         ],
         "legendgroup": "Information incomplete",
         "marker": {
          "color": "#808080",
          "opacity": 1,
          "size": [
           3.69,
           5.88,
           6.29,
           5.94,
           6.5,
           5.35,
           4.8
          ],
          "sizemode": "area",
          "sizeref": 0.0104,
          "symbol": "circle"
         },
         "mode": "markers",
         "name": "Information incomplete",
         "orientation": "v",
         "showlegend": true,
         "type": "scatter",
         "x": [
          5.98,
          5.81,
          3.12,
          5.22,
          4.43,
          5.6,
          5.02
         ],
         "xaxis": "x",
         "y": [
          5.14,
          4.6,
          4.89,
          4.36,
          5.04,
          5.12,
          5.04
         ],
         "yaxis": "y"
        },
        {
         "customdata": [
          [
           5.56,
           "Poor"
          ],
          [
           5.24,
           "Poor"
          ],
          [
           4.98,
           "Poor"
          ],
          [
           4.19,
           "Poor"
          ],
          [
           5.61,
           "Poor"
          ],
          [
           4.67,
           "Poor"
          ],
          [
           4.43,
           "Poor"
          ],
          [
           5.72,
           "Poor"
          ],
          [
           5.03,
           "Poor"
          ],
          [
           4.37,
           "Poor"
          ],
          [
           3.88,
           "Poor"
          ],
          [
           5.31,
           "Poor"
          ],
          [
           3.67,
           "Poor"
          ]
         ],
         "hovertemplate": "<b>%{hovertext}</b><br><br>Net Zero Rating=%{customdata[1]}<br>Socioeconomic resilience=%{x}<br>Climate resilience=%{y}<br>Governance resilience=%{customdata[0]}<extra></extra>",
         "hovertext": [
          "Argentina",
          "Australia",
          "China",
          "Gambia",
          "India",
          "Japan",
          "Kazakhstan",
          "New Zealand",
          "Russian Federation",
          "Saudi Arabia",
          "Singapore",
          "Türkiye",
          "United Arab Emirates"
         ],
         "legendgroup": "Poor",
         "marker": {
          "color": "#8B0000",
          "opacity": 1,
          "size": [
           5.56,
           5.24,
           4.98,
           4.19,
           5.61,
           4.67,
           4.43,
           5.72,
           5.03,
           4.37,
           3.88,
           5.31,
           3.67
          ],
          "sizemode": "area",
          "sizeref": 0.0104,
          "symbol": "circle"
         },
         "mode": "markers",
         "name": "Poor",
         "orientation": "v",
         "showlegend": true,
         "type": "scatter",
         "x": [
          5.62,
          6.39,
          4.96,
          3.81,
          4.66,
          6.26,
          6.54,
          6.74,
          6.7,
          5.7,
          6.19,
          5,
          7.18
         ],
         "xaxis": "x",
         "y": [
          3.72,
          4.96,
          3.72,
          4.04,
          2.78,
          4,
          3.98,
          4.76,
          4.12,
          4.7,
          6.32,
          3.62,
          4.34
         ],
         "yaxis": "y"
        },
        {
         "customdata": [
          [
           5.11,
           "Average"
          ],
          [
           5.65,
           "Average"
          ],
          [
           4.96,
           "Average"
          ],
          [
           5,
           "Average"
          ],
          [
           5,
           "Average"
          ],
          [
           5.88,
           "Average"
          ],
          [
           5.46,
           "Average"
          ],
          [
           4.3,
           "Average"
          ],
          [
           5.32,
           "Average"
          ]
         ],
         "hovertemplate": "<b>%{hovertext}</b><br><br>Net Zero Rating=%{customdata[1]}<br>Socioeconomic resilience=%{x}<br>Climate resilience=%{y}<br>Governance resilience=%{customdata[0]}<extra></extra>",
         "hovertext": [
          "Canada",
          "Germany",
          "Korea, Republic of",
          "Nepal",
          "Nigeria",
          "Switzerland",
          "Thailand",
          "United States of America",
          "Viet Nam"
         ],
         "legendgroup": "Average",
         "marker": {
          "color": "#DAA520",
          "opacity": 1,
          "size": [
           5.11,
           5.65,
           4.96,
           5,
           5,
           5.88,
           5.46,
           4.3,
           5.32
          ],
          "sizemode": "area",
          "sizeref": 0.0104,
          "symbol": "circle"
         },
         "mode": "markers",
         "name": "Average",
         "orientation": "v",
         "showlegend": true,
         "type": "scatter",
         "x": [
          6.14,
          6.18,
          6.47,
          4.65,
          3.16,
          6.71,
          5.5,
          6.43,
          5.31
         ],
         "xaxis": "x",
         "y": [
          4.36,
          4.7,
          4.5,
          3.43,
          4.2,
          4.59,
          3.02,
          4.28,
          3.6
         ],
         "yaxis": "y"
        },
        {
         "customdata": [
          [
           6.2,
           "Acceptable"
          ],
          [
           6.09,
           "Acceptable"
          ],
          [
           5.43,
           "Acceptable"
          ],
          [
           6.24,
           "Acceptable"
          ]
         ],
         "hovertemplate": "<b>%{hovertext}</b><br><br>Net Zero Rating=%{customdata[1]}<br>Socioeconomic resilience=%{x}<br>Climate resilience=%{y}<br>Governance resilience=%{customdata[0]}<extra></extra>",
         "hovertext": [
          "Chile",
          "Colombia",
          "Costa Rica",
          "United Kingdom of Great Britain and Northern Ireland"
         ],
         "legendgroup": "Acceptable",
         "marker": {
          "color": "#006400",
          "opacity": 1,
          "size": [
           6.2,
           6.09,
           5.43,
           6.24
          ],
          "sizemode": "area",
          "sizeref": 0.0104,
          "symbol": "circle"
         },
         "mode": "markers",
         "name": "Acceptable",
         "orientation": "v",
         "showlegend": true,
         "type": "scatter",
         "x": [
          5.91,
          4.68,
          6.52,
          6.64
         ],
         "xaxis": "x",
         "y": [
          4.98,
          4.78,
          5.18,
          4.72
         ],
         "yaxis": "y"
        }
       ],
       "layout": {
        "height": 600,
        "images": [
         {
          "layer": "above",
          "opacity": 1,
          "sizex": 0.2222222222222222,
          "sizey": 0.2222222222222222,
          "sizing": "contain",
          "source": "https://raw.githubusercontent.com/matahombres/CSS-Country-Flags-Rounded/master/flags/AR.png",
          "x": 5.617647058823529,
          "xanchor": "center",
          "xref": "x",
          "y": 3.72,
          "yanchor": "middle",
          "yref": "y"
         },
         {
          "layer": "above",
          "opacity": 1,
          "sizex": 0.2096,
          "sizey": 0.2096,
          "sizing": "contain",
          "source": "https://raw.githubusercontent.com/matahombres/CSS-Country-Flags-Rounded/master/flags/AU.png",
          "x": 6.394736842105263,
          "xanchor": "center",
          "xref": "x",
          "y": 4.96,
          "yanchor": "middle",
          "yref": "y"
         },
         {
          "layer": "above",
          "opacity": 1,
          "sizex": 0.1475,
          "sizey": 0.1475,
          "sizing": "contain",
          "source": "https://raw.githubusercontent.com/matahombres/CSS-Country-Flags-Rounded/master/flags/BT.png",
          "x": 5.978260869565218,
          "xanchor": "center",
          "xref": "x",
          "y": 5.136363636363637,
          "yanchor": "middle",
          "yref": "y"
         },
         {
          "layer": "above",
          "opacity": 1,
          "sizex": 0.23523809523809525,
          "sizey": 0.23523809523809525,
          "sizing": "contain",
          "source": "https://raw.githubusercontent.com/matahombres/CSS-Country-Flags-Rounded/master/flags/BR.png",
          "x": 5.8125,
          "xanchor": "center",
          "xref": "x",
          "y": 4.6,
          "yanchor": "middle",
          "yref": "y"
         },
         {
          "layer": "above",
          "opacity": 1,
          "sizex": 0.20434782608695654,
          "sizey": 0.20434782608695654,
          "sizing": "contain",
          "source": "https://raw.githubusercontent.com/matahombres/CSS-Country-Flags-Rounded/master/flags/CA.png",
          "x": 6.138888888888889,
          "xanchor": "center",
          "xref": "x",
          "y": 4.36,
          "yanchor": "middle",
          "yref": "y"
         },
         {
          "layer": "above",
          "opacity": 1,
          "sizex": 0.24818181818181817,
          "sizey": 0.24818181818181817,
          "sizing": "contain",
          "source": "https://raw.githubusercontent.com/matahombres/CSS-Country-Flags-Rounded/master/flags/CL.png",
          "x": 5.913043478260869,
          "xanchor": "center",
          "xref": "x",
          "y": 4.98,
          "yanchor": "middle",
          "yref": "y"
         },
         {
          "layer": "above",
          "opacity": 1,
          "sizex": 0.19904761904761906,
          "sizey": 0.19904761904761906,
          "sizing": "contain",
          "source": "https://raw.githubusercontent.com/matahombres/CSS-Country-Flags-Rounded/master/flags/CN.png",
          "x": 4.956521739130435,
          "xanchor": "center",
          "xref": "x",
          "y": 3.72,
          "yanchor": "middle",
          "yref": "y"
         },
         {
          "layer": "above",
          "opacity": 1,
          "sizex": 0.24347826086956523,
          "sizey": 0.24347826086956523,
          "sizing": "contain",
          "source": "https://raw.githubusercontent.com/matahombres/CSS-Country-Flags-Rounded/master/flags/CO.png",
          "x": 4.68,
          "xanchor": "center",
          "xref": "x",
          "y": 4.78,
          "yanchor": "middle",
          "yref": "y"
         },
         {
          "layer": "above",
          "opacity": 1,
          "sizex": 0.21739130434782608,
          "sizey": 0.21739130434782608,
          "sizing": "contain",
          "source": "https://raw.githubusercontent.com/matahombres/CSS-Country-Flags-Rounded/master/flags/CR.png",
          "x": 6.52,
          "xanchor": "center",
          "xref": "x",
          "y": 5.18,
          "yanchor": "middle",
          "yref": "y"
         },
         {
          "layer": "above",
          "opacity": 1,
          "sizex": 0.25142857142857145,
          "sizey": 0.25142857142857145,
          "sizing": "contain",
          "source": "https://raw.githubusercontent.com/matahombres/CSS-Country-Flags-Rounded/master/flags/ET.png",
          "x": 3.12,
          "xanchor": "center",
          "xref": "x",
          "y": 4.886363636363637,
          "yanchor": "middle",
          "yref": "y"
         },
         {
          "layer": "above",
          "opacity": 1,
          "sizex": 0.1675,
          "sizey": 0.1675,
          "sizing": "contain",
          "source": "https://raw.githubusercontent.com/matahombres/CSS-Country-Flags-Rounded/master/flags/GM.png",
          "x": 3.8125,
          "xanchor": "center",
          "xref": "x",
          "y": 4.04,
          "yanchor": "middle",
          "yref": "y"
         },
         {
          "layer": "above",
          "opacity": 1,
          "sizex": 0.22608695652173913,
          "sizey": 0.22608695652173913,
          "sizing": "contain",
          "source": "https://raw.githubusercontent.com/matahombres/CSS-Country-Flags-Rounded/master/flags/DE.png",
          "x": 6.184210526315789,
          "xanchor": "center",
          "xref": "x",
          "y": 4.7,
          "yanchor": "middle",
          "yref": "y"
         },
         {
          "layer": "above",
          "opacity": 1,
          "sizex": 0.2242105263157895,
          "sizey": 0.2242105263157895,
          "sizing": "contain",
          "source": "https://raw.githubusercontent.com/matahombres/CSS-Country-Flags-Rounded/master/flags/IN.png",
          "x": 4.66,
          "xanchor": "center",
          "xref": "x",
          "y": 2.78,
          "yanchor": "middle",
          "yref": "y"
         },
         {
          "layer": "above",
          "opacity": 1,
          "sizex": 0.23777777777777778,
          "sizey": 0.23777777777777778,
          "sizing": "contain",
          "source": "https://raw.githubusercontent.com/matahombres/CSS-Country-Flags-Rounded/master/flags/ID.png",
          "x": 5.22,
          "xanchor": "center",
          "xref": "x",
          "y": 4.36,
          "yanchor": "middle",
          "yref": "y"
         },
         {
          "layer": "above",
          "opacity": 1,
          "sizex": 0.18695652173913044,
          "sizey": 0.18695652173913044,
          "sizing": "contain",
          "source": "https://raw.githubusercontent.com/matahombres/CSS-Country-Flags-Rounded/master/flags/JP.png",
          "x": 6.261904761904762,
          "xanchor": "center",
          "xref": "x",
          "y": 4,
          "yanchor": "middle",
          "yref": "y"
         },
         {
          "layer": "above",
          "opacity": 1,
          "sizex": 0.17733333333333334,
          "sizey": 0.17733333333333334,
          "sizing": "contain",
          "source": "https://raw.githubusercontent.com/matahombres/CSS-Country-Flags-Rounded/master/flags/KZ.png",
          "x": 6.54,
          "xanchor": "center",
          "xref": "x",
          "y": 3.977272727272727,
          "yanchor": "middle",
          "yref": "y"
         },
         {
          "layer": "above",
          "opacity": 1,
          "sizex": 0.19826086956521738,
          "sizey": 0.19826086956521738,
          "sizing": "contain",
          "source": "https://raw.githubusercontent.com/matahombres/CSS-Country-Flags-Rounded/master/flags/KR.png",
          "x": 6.472222222222222,
          "xanchor": "center",
          "xref": "x",
          "y": 4.5,
          "yanchor": "middle",
          "yref": "y"
         },
         {
          "layer": "above",
          "opacity": 1,
          "sizex": 0.26,
          "sizey": 0.26,
          "sizing": "contain",
          "source": "https://raw.githubusercontent.com/matahombres/CSS-Country-Flags-Rounded/master/flags/MA.png",
          "x": 4.428571428571429,
          "xanchor": "center",
          "xref": "x",
          "y": 5.04,
          "yanchor": "middle",
          "yref": "y"
         },
         {
          "layer": "above",
          "opacity": 1,
          "sizex": 0.2,
          "sizey": 0.2,
          "sizing": "contain",
          "source": "https://raw.githubusercontent.com/matahombres/CSS-Country-Flags-Rounded/master/flags/NP.png",
          "x": 4.6521739130434785,
          "xanchor": "center",
          "xref": "x",
          "y": 3.4318181818181817,
          "yanchor": "middle",
          "yref": "y"
         },
         {
          "layer": "above",
          "opacity": 1,
          "sizex": 0.22899999999999998,
          "sizey": 0.22899999999999998,
          "sizing": "contain",
          "source": "https://raw.githubusercontent.com/matahombres/CSS-Country-Flags-Rounded/master/flags/NZ.png",
          "x": 6.735294117647059,
          "xanchor": "center",
          "xref": "x",
          "y": 4.76,
          "yanchor": "middle",
          "yref": "y"
         },
         {
          "layer": "above",
          "opacity": 1,
          "sizex": 0.2,
          "sizey": 0.2,
          "sizing": "contain",
          "source": "https://raw.githubusercontent.com/matahombres/CSS-Country-Flags-Rounded/master/flags/NG.png",
          "x": 3.16,
          "xanchor": "center",
          "xref": "x",
          "y": 4.2,
          "yanchor": "middle",
          "yref": "y"
         },
         {
          "layer": "above",
          "opacity": 1,
          "sizex": 0.21411764705882352,
          "sizey": 0.21411764705882352,
          "sizing": "contain",
          "source": "https://raw.githubusercontent.com/matahombres/CSS-Country-Flags-Rounded/master/flags/PE.png",
          "x": 5.6,
          "xanchor": "center",
          "xref": "x",
          "y": 5.12,
          "yanchor": "middle",
          "yref": "y"
         },
         {
          "layer": "above",
          "opacity": 1,
          "sizex": 0.201,
          "sizey": 0.201,
          "sizing": "contain",
          "source": "https://raw.githubusercontent.com/matahombres/CSS-Country-Flags-Rounded/master/flags/RU.png",
          "x": 6.695652173913044,
          "xanchor": "center",
          "xref": "x",
          "y": 4.12,
          "yanchor": "middle",
          "yref": "y"
         },
         {
          "layer": "above",
          "opacity": 1,
          "sizex": 0.17466666666666664,
          "sizey": 0.17466666666666664,
          "sizing": "contain",
          "source": "https://raw.githubusercontent.com/matahombres/CSS-Country-Flags-Rounded/master/flags/SA.png",
          "x": 5.7,
          "xanchor": "center",
          "xref": "x",
          "y": 4.7,
          "yanchor": "middle",
          "yref": "y"
         },
         {
          "layer": "above",
          "opacity": 1,
          "sizex": 0.15538461538461537,
          "sizey": 0.15538461538461537,
          "sizing": "contain",
          "source": "https://raw.githubusercontent.com/matahombres/CSS-Country-Flags-Rounded/master/flags/SG.png",
          "x": 6.1875,
          "xanchor": "center",
          "xref": "x",
          "y": 6.32,
          "yanchor": "middle",
          "yref": "y"
         },
         {
          "layer": "above",
          "opacity": 1,
          "sizex": 0.192,
          "sizey": 0.192,
          "sizing": "contain",
          "source": "https://raw.githubusercontent.com/matahombres/CSS-Country-Flags-Rounded/master/flags/ZA.png",
          "x": 5.02,
          "xanchor": "center",
          "xref": "x",
          "y": 5.04,
          "yanchor": "middle",
          "yref": "y"
         },
         {
          "layer": "above",
          "opacity": 1,
          "sizex": 0.235,
          "sizey": 0.235,
          "sizing": "contain",
          "source": "https://raw.githubusercontent.com/matahombres/CSS-Country-Flags-Rounded/master/flags/CH.png",
          "x": 6.7105263157894735,
          "xanchor": "center",
          "xref": "x",
          "y": 4.590909090909091,
          "yanchor": "middle",
          "yref": "y"
         },
         {
          "layer": "above",
          "opacity": 1,
          "sizex": 0.21846153846153846,
          "sizey": 0.21846153846153846,
          "sizing": "contain",
          "source": "https://raw.githubusercontent.com/matahombres/CSS-Country-Flags-Rounded/master/flags/TH.png",
          "x": 5.5,
          "xanchor": "center",
          "xref": "x",
          "y": 3.02,
          "yanchor": "middle",
          "yref": "y"
         },
         {
          "layer": "above",
          "opacity": 1,
          "sizex": 0.21238095238095236,
          "sizey": 0.21238095238095236,
          "sizing": "contain",
          "source": "https://raw.githubusercontent.com/matahombres/CSS-Country-Flags-Rounded/master/flags/TR.png",
          "x": 5,
          "xanchor": "center",
          "xref": "x",
          "y": 3.62,
          "yanchor": "middle",
          "yref": "y"
         },
         {
          "layer": "above",
          "opacity": 1,
          "sizex": 0.14666666666666667,
          "sizey": 0.14666666666666667,
          "sizing": "contain",
          "source": "https://raw.githubusercontent.com/matahombres/CSS-Country-Flags-Rounded/master/flags/AE.png",
          "x": 7.176470588235294,
          "xanchor": "center",
          "xref": "x",
          "y": 4.34,
          "yanchor": "middle",
          "yref": "y"
         },
         {
          "layer": "above",
          "opacity": 1,
          "sizex": 0.24956521739130433,
          "sizey": 0.24956521739130433,
          "sizing": "contain",
          "source": "https://raw.githubusercontent.com/matahombres/CSS-Country-Flags-Rounded/master/flags/GB.png",
          "x": 6.638888888888889,
          "xanchor": "center",
          "xref": "x",
          "y": 4.72,
          "yanchor": "middle",
          "yref": "y"
         },
         {
          "layer": "above",
          "opacity": 1,
          "sizex": 0.17217391304347823,
          "sizey": 0.17217391304347823,
          "sizing": "contain",
          "source": "https://raw.githubusercontent.com/matahombres/CSS-Country-Flags-Rounded/master/flags/US.png",
          "x": 6.428571428571429,
          "xanchor": "center",
          "xref": "x",
          "y": 4.28,
          "yanchor": "middle",
          "yref": "y"
         },
         {
          "layer": "above",
          "opacity": 1,
          "sizex": 0.21285714285714286,
          "sizey": 0.21285714285714286,
          "sizing": "contain",
          "source": "https://raw.githubusercontent.com/matahombres/CSS-Country-Flags-Rounded/master/flags/VN.png",
          "x": 5.3125,
          "xanchor": "center",
          "xref": "x",
          "y": 3.6,
          "yanchor": "middle",
          "yref": "y"
         }
        ],
        "legend": {
         "itemsizing": "constant",
         "title": {
          "text": "Net Zero Rating"
         },
         "tracegroupgap": 0
        },
        "margin": {
         "t": 60
        },
        "plot_bgcolor": "#dfdfdf",
        "template": {
         "data": {
          "bar": [
           {
            "error_x": {
             "color": "#2a3f5f"
            },
            "error_y": {
             "color": "#2a3f5f"
            },
            "marker": {
             "line": {
              "color": "#E5ECF6",
              "width": 0.5
             },
             "pattern": {
              "fillmode": "overlay",
              "size": 10,
              "solidity": 0.2
             }
            },
            "type": "bar"
           }
          ],
          "barpolar": [
           {
            "marker": {
             "line": {
              "color": "#E5ECF6",
              "width": 0.5
             },
             "pattern": {
              "fillmode": "overlay",
              "size": 10,
              "solidity": 0.2
             }
            },
            "type": "barpolar"
           }
          ],
          "carpet": [
           {
            "aaxis": {
             "endlinecolor": "#2a3f5f",
             "gridcolor": "white",
             "linecolor": "white",
             "minorgridcolor": "white",
             "startlinecolor": "#2a3f5f"
            },
            "baxis": {
             "endlinecolor": "#2a3f5f",
             "gridcolor": "white",
             "linecolor": "white",
             "minorgridcolor": "white",
             "startlinecolor": "#2a3f5f"
            },
            "type": "carpet"
           }
          ],
          "choropleth": [
           {
            "colorbar": {
             "outlinewidth": 0,
             "ticks": ""
            },
            "type": "choropleth"
           }
          ],
          "contour": [
           {
            "colorbar": {
             "outlinewidth": 0,
             "ticks": ""
            },
            "colorscale": [
             [
              0,
              "#0d0887"
             ],
             [
              0.1111111111111111,
              "#46039f"
             ],
             [
              0.2222222222222222,
              "#7201a8"
             ],
             [
              0.3333333333333333,
              "#9c179e"
             ],
             [
              0.4444444444444444,
              "#bd3786"
             ],
             [
              0.5555555555555556,
              "#d8576b"
             ],
             [
              0.6666666666666666,
              "#ed7953"
             ],
             [
              0.7777777777777778,
              "#fb9f3a"
             ],
             [
              0.8888888888888888,
              "#fdca26"
             ],
             [
              1,
              "#f0f921"
             ]
            ],
            "type": "contour"
           }
          ],
          "contourcarpet": [
           {
            "colorbar": {
             "outlinewidth": 0,
             "ticks": ""
            },
            "type": "contourcarpet"
           }
          ],
          "heatmap": [
           {
            "colorbar": {
             "outlinewidth": 0,
             "ticks": ""
            },
            "colorscale": [
             [
              0,
              "#0d0887"
             ],
             [
              0.1111111111111111,
              "#46039f"
             ],
             [
              0.2222222222222222,
              "#7201a8"
             ],
             [
              0.3333333333333333,
              "#9c179e"
             ],
             [
              0.4444444444444444,
              "#bd3786"
             ],
             [
              0.5555555555555556,
              "#d8576b"
             ],
             [
              0.6666666666666666,
              "#ed7953"
             ],
             [
              0.7777777777777778,
              "#fb9f3a"
             ],
             [
              0.8888888888888888,
              "#fdca26"
             ],
             [
              1,
              "#f0f921"
             ]
            ],
            "type": "heatmap"
           }
          ],
          "heatmapgl": [
           {
            "colorbar": {
             "outlinewidth": 0,
             "ticks": ""
            },
            "colorscale": [
             [
              0,
              "#0d0887"
             ],
             [
              0.1111111111111111,
              "#46039f"
             ],
             [
              0.2222222222222222,
              "#7201a8"
             ],
             [
              0.3333333333333333,
              "#9c179e"
             ],
             [
              0.4444444444444444,
              "#bd3786"
             ],
             [
              0.5555555555555556,
              "#d8576b"
             ],
             [
              0.6666666666666666,
              "#ed7953"
             ],
             [
              0.7777777777777778,
              "#fb9f3a"
             ],
             [
              0.8888888888888888,
              "#fdca26"
             ],
             [
              1,
              "#f0f921"
             ]
            ],
            "type": "heatmapgl"
           }
          ],
          "histogram": [
           {
            "marker": {
             "pattern": {
              "fillmode": "overlay",
              "size": 10,
              "solidity": 0.2
             }
            },
            "type": "histogram"
           }
          ],
          "histogram2d": [
           {
            "colorbar": {
             "outlinewidth": 0,
             "ticks": ""
            },
            "colorscale": [
             [
              0,
              "#0d0887"
             ],
             [
              0.1111111111111111,
              "#46039f"
             ],
             [
              0.2222222222222222,
              "#7201a8"
             ],
             [
              0.3333333333333333,
              "#9c179e"
             ],
             [
              0.4444444444444444,
              "#bd3786"
             ],
             [
              0.5555555555555556,
              "#d8576b"
             ],
             [
              0.6666666666666666,
              "#ed7953"
             ],
             [
              0.7777777777777778,
              "#fb9f3a"
             ],
             [
              0.8888888888888888,
              "#fdca26"
             ],
             [
              1,
              "#f0f921"
             ]
            ],
            "type": "histogram2d"
           }
          ],
          "histogram2dcontour": [
           {
            "colorbar": {
             "outlinewidth": 0,
             "ticks": ""
            },
            "colorscale": [
             [
              0,
              "#0d0887"
             ],
             [
              0.1111111111111111,
              "#46039f"
             ],
             [
              0.2222222222222222,
              "#7201a8"
             ],
             [
              0.3333333333333333,
              "#9c179e"
             ],
             [
              0.4444444444444444,
              "#bd3786"
             ],
             [
              0.5555555555555556,
              "#d8576b"
             ],
             [
              0.6666666666666666,
              "#ed7953"
             ],
             [
              0.7777777777777778,
              "#fb9f3a"
             ],
             [
              0.8888888888888888,
              "#fdca26"
             ],
             [
              1,
              "#f0f921"
             ]
            ],
            "type": "histogram2dcontour"
           }
          ],
          "mesh3d": [
           {
            "colorbar": {
             "outlinewidth": 0,
             "ticks": ""
            },
            "type": "mesh3d"
           }
          ],
          "parcoords": [
           {
            "line": {
             "colorbar": {
              "outlinewidth": 0,
              "ticks": ""
             }
            },
            "type": "parcoords"
           }
          ],
          "pie": [
           {
            "automargin": true,
            "type": "pie"
           }
          ],
          "scatter": [
           {
            "fillpattern": {
             "fillmode": "overlay",
             "size": 10,
             "solidity": 0.2
            },
            "type": "scatter"
           }
          ],
          "scatter3d": [
           {
            "line": {
             "colorbar": {
              "outlinewidth": 0,
              "ticks": ""
             }
            },
            "marker": {
             "colorbar": {
              "outlinewidth": 0,
              "ticks": ""
             }
            },
            "type": "scatter3d"
           }
          ],
          "scattercarpet": [
           {
            "marker": {
             "colorbar": {
              "outlinewidth": 0,
              "ticks": ""
             }
            },
            "type": "scattercarpet"
           }
          ],
          "scattergeo": [
           {
            "marker": {
             "colorbar": {
              "outlinewidth": 0,
              "ticks": ""
             }
            },
            "type": "scattergeo"
           }
          ],
          "scattergl": [
           {
            "marker": {
             "colorbar": {
              "outlinewidth": 0,
              "ticks": ""
             }
            },
            "type": "scattergl"
           }
          ],
          "scattermapbox": [
           {
            "marker": {
             "colorbar": {
              "outlinewidth": 0,
              "ticks": ""
             }
            },
            "type": "scattermapbox"
           }
          ],
          "scatterpolar": [
           {
            "marker": {
             "colorbar": {
              "outlinewidth": 0,
              "ticks": ""
             }
            },
            "type": "scatterpolar"
           }
          ],
          "scatterpolargl": [
           {
            "marker": {
             "colorbar": {
              "outlinewidth": 0,
              "ticks": ""
             }
            },
            "type": "scatterpolargl"
           }
          ],
          "scatterternary": [
           {
            "marker": {
             "colorbar": {
              "outlinewidth": 0,
              "ticks": ""
             }
            },
            "type": "scatterternary"
           }
          ],
          "surface": [
           {
            "colorbar": {
             "outlinewidth": 0,
             "ticks": ""
            },
            "colorscale": [
             [
              0,
              "#0d0887"
             ],
             [
              0.1111111111111111,
              "#46039f"
             ],
             [
              0.2222222222222222,
              "#7201a8"
             ],
             [
              0.3333333333333333,
              "#9c179e"
             ],
             [
              0.4444444444444444,
              "#bd3786"
             ],
             [
              0.5555555555555556,
              "#d8576b"
             ],
             [
              0.6666666666666666,
              "#ed7953"
             ],
             [
              0.7777777777777778,
              "#fb9f3a"
             ],
             [
              0.8888888888888888,
              "#fdca26"
             ],
             [
              1,
              "#f0f921"
             ]
            ],
            "type": "surface"
           }
          ],
          "table": [
           {
            "cells": {
             "fill": {
              "color": "#EBF0F8"
             },
             "line": {
              "color": "white"
             }
            },
            "header": {
             "fill": {
              "color": "#C8D4E3"
             },
             "line": {
              "color": "white"
             }
            },
            "type": "table"
           }
          ]
         },
         "layout": {
          "annotationdefaults": {
           "arrowcolor": "#2a3f5f",
           "arrowhead": 0,
           "arrowwidth": 1
          },
          "autotypenumbers": "strict",
          "coloraxis": {
           "colorbar": {
            "outlinewidth": 0,
            "ticks": ""
           }
          },
          "colorscale": {
           "diverging": [
            [
             0,
             "#8e0152"
            ],
            [
             0.1,
             "#c51b7d"
            ],
            [
             0.2,
             "#de77ae"
            ],
            [
             0.3,
             "#f1b6da"
            ],
            [
             0.4,
             "#fde0ef"
            ],
            [
             0.5,
             "#f7f7f7"
            ],
            [
             0.6,
             "#e6f5d0"
            ],
            [
             0.7,
             "#b8e186"
            ],
            [
             0.8,
             "#7fbc41"
            ],
            [
             0.9,
             "#4d9221"
            ],
            [
             1,
             "#276419"
            ]
           ],
           "sequential": [
            [
             0,
             "#0d0887"
            ],
            [
             0.1111111111111111,
             "#46039f"
            ],
            [
             0.2222222222222222,
             "#7201a8"
            ],
            [
             0.3333333333333333,
             "#9c179e"
            ],
            [
             0.4444444444444444,
             "#bd3786"
            ],
            [
             0.5555555555555556,
             "#d8576b"
            ],
            [
             0.6666666666666666,
             "#ed7953"
            ],
            [
             0.7777777777777778,
             "#fb9f3a"
            ],
            [
             0.8888888888888888,
             "#fdca26"
            ],
            [
             1,
             "#f0f921"
            ]
           ],
           "sequentialminus": [
            [
             0,
             "#0d0887"
            ],
            [
             0.1111111111111111,
             "#46039f"
            ],
            [
             0.2222222222222222,
             "#7201a8"
            ],
            [
             0.3333333333333333,
             "#9c179e"
            ],
            [
             0.4444444444444444,
             "#bd3786"
            ],
            [
             0.5555555555555556,
             "#d8576b"
            ],
            [
             0.6666666666666666,
             "#ed7953"
            ],
            [
             0.7777777777777778,
             "#fb9f3a"
            ],
            [
             0.8888888888888888,
             "#fdca26"
            ],
            [
             1,
             "#f0f921"
            ]
           ]
          },
          "colorway": [
           "#636efa",
           "#EF553B",
           "#00cc96",
           "#ab63fa",
           "#FFA15A",
           "#19d3f3",
           "#FF6692",
           "#B6E880",
           "#FF97FF",
           "#FECB52"
          ],
          "font": {
           "color": "#2a3f5f"
          },
          "geo": {
           "bgcolor": "white",
           "lakecolor": "white",
           "landcolor": "#E5ECF6",
           "showlakes": true,
           "showland": true,
           "subunitcolor": "white"
          },
          "hoverlabel": {
           "align": "left"
          },
          "hovermode": "closest",
          "mapbox": {
           "style": "light"
          },
          "paper_bgcolor": "white",
          "plot_bgcolor": "#E5ECF6",
          "polar": {
           "angularaxis": {
            "gridcolor": "white",
            "linecolor": "white",
            "ticks": ""
           },
           "bgcolor": "#E5ECF6",
           "radialaxis": {
            "gridcolor": "white",
            "linecolor": "white",
            "ticks": ""
           }
          },
          "scene": {
           "xaxis": {
            "backgroundcolor": "#E5ECF6",
            "gridcolor": "white",
            "gridwidth": 2,
            "linecolor": "white",
            "showbackground": true,
            "ticks": "",
            "zerolinecolor": "white"
           },
           "yaxis": {
            "backgroundcolor": "#E5ECF6",
            "gridcolor": "white",
            "gridwidth": 2,
            "linecolor": "white",
            "showbackground": true,
            "ticks": "",
            "zerolinecolor": "white"
           },
           "zaxis": {
            "backgroundcolor": "#E5ECF6",
            "gridcolor": "white",
            "gridwidth": 2,
            "linecolor": "white",
            "showbackground": true,
            "ticks": "",
            "zerolinecolor": "white"
           }
          },
          "shapedefaults": {
           "line": {
            "color": "#2a3f5f"
           }
          },
          "ternary": {
           "aaxis": {
            "gridcolor": "white",
            "linecolor": "white",
            "ticks": ""
           },
           "baxis": {
            "gridcolor": "white",
            "linecolor": "white",
            "ticks": ""
           },
           "bgcolor": "#E5ECF6",
           "caxis": {
            "gridcolor": "white",
            "linecolor": "white",
            "ticks": ""
           }
          },
          "title": {
           "x": 0.05
          },
          "xaxis": {
           "automargin": true,
           "gridcolor": "white",
           "linecolor": "white",
           "ticks": "",
           "title": {
            "standoff": 15
           },
           "zerolinecolor": "white",
           "zerolinewidth": 2
          },
          "yaxis": {
           "automargin": true,
           "gridcolor": "white",
           "linecolor": "white",
           "ticks": "",
           "title": {
            "standoff": 15
           },
           "zerolinecolor": "white",
           "zerolinewidth": 2
          }
         }
        },
        "width": 1000,
        "xaxis": {
         "anchor": "y",
         "domain": [
          0,
          1
         ],
         "title": {
          "text": "Socioeconomic resilience"
         }
        },
        "yaxis": {
         "anchor": "x",
         "domain": [
          0,
          1
         ],
         "title": {
          "text": "Climate resilience"
         }
        }
       }
      }
     },
     "metadata": {},
     "output_type": "display_data"
    }
   ],
   "source": [
    "import plotly.express as px\n",
    "import plotly.graph_objects as go\n",
    "\n",
    "df_g = df_rnz.copy()\n",
    "\n",
    "n = list(range(df_rnz.shape[0]))\n",
    "n.remove(0)\n",
    "n.remove(2)\n",
    "n.remove(4)\n",
    "n.remove(5)\n",
    "df_g = df_g.iloc[[2, 0, 4, 5] + n ]\n",
    "for i in res_names:\n",
    "    df_g[i] = df_rnz[i].apply(lambda x: float(f\"{x:.2f}\"))\n",
    "\n",
    "\n",
    "fig = px.scatter( df_g, x = res_names[0], y = res_names[1],\n",
    "    hover_name = \"name\", hover_data = res_names + [\"Net Zero Rating\"],\n",
    "    size = res_names[2], color = \"Net Zero Rating\", opacity = 1, size_max = 25,\n",
    "    color_discrete_sequence=[\"#808080\", \"#8B0000\", \"#DAA520\", \"#006400\"]\n",
    ")\n",
    "#fig.update_traces(marker_color=\"rgba(0,0,0,0)\")\n",
    "\n",
    "for i, row in df_rnz.iterrows():\n",
    "    country_iso = row[\"alpha-2\"]\n",
    "    fig.add_layout_image(\n",
    "        dict(\n",
    "            source=f\"https://raw.githubusercontent.com/matahombres/CSS-Country-Flags-Rounded/master/flags/{country_iso}.png\",\n",
    "            xref=\"x\", yref=\"y\", xanchor=\"center\", yanchor=\"middle\",\n",
    "            x=row[res_names[0]], y=row[res_names[1]],\n",
    "            sizex=row[res_names[2]]/25, sizey=row[res_names[2]]/25,\n",
    "            sizing=\"contain\",\n",
    "            #bordercolor = \"green\",\n",
    "            opacity=1,\n",
    "            layer=\"above\"\n",
    "        )\n",
    "    )\n",
    "\n",
    "fig.update_layout(height=600, width=1000, plot_bgcolor=\"#dfdfdf\")\n",
    "\n",
    "fig.show()"
   ]
  }
 ],
 "metadata": {
  "kernelspec": {
   "display_name": "xarray",
   "language": "python",
   "name": "python3"
  },
  "language_info": {
   "codemirror_mode": {
    "name": "ipython",
    "version": 3
   },
   "file_extension": ".py",
   "mimetype": "text/x-python",
   "name": "python",
   "nbconvert_exporter": "python",
   "pygments_lexer": "ipython3",
   "version": "3.12.2"
  }
 },
 "nbformat": 4,
 "nbformat_minor": 2
}
