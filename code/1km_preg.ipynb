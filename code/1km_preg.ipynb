{
 "cells": [
  {
   "cell_type": "code",
   "execution_count": 13,
   "metadata": {},
   "outputs": [],
   "source": [
    "import os\n",
    "\n",
    "path   = \"/Users/rodrigo/Downloads/\"\n",
    "path_d = f\"{path}1km_pregnancies_countries/\"\n",
    "path_r = f\"{path}1km_pregnancies/\"\n",
    "\n",
    "countries = os.listdir(path_d)\n",
    "\n",
    "for c in countries:\n",
    "    if c == \".DS_Store\": pass\n",
    "    else:\n",
    "        files = os.listdir(path_d + c)\n",
    "        iso = files[2][0:4]\n",
    "        if files[2] == \"README.txt\": iso = files[3][0:4]\n",
    "        for f in files:\n",
    "            if f == \"README.txt\":\n",
    "                os.rename( f\"{path_d}{c}/{f}\", f\"{path_r}{iso}{f}\" )\n",
    "            else:\n",
    "                os.rename(f\"{path_d}{c}/{f}\", f\"{path_r}{f}\")"
   ]
  }
 ],
 "metadata": {
  "kernelspec": {
   "display_name": "xarray",
   "language": "python",
   "name": "python3"
  },
  "language_info": {
   "codemirror_mode": {
    "name": "ipython",
    "version": 3
   },
   "file_extension": ".py",
   "mimetype": "text/x-python",
   "name": "python",
   "nbconvert_exporter": "python",
   "pygments_lexer": "ipython3",
   "version": "3.12.2"
  }
 },
 "nbformat": 4,
 "nbformat_minor": 2
}
