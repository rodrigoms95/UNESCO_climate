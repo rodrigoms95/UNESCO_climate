{
 "cells": [
  {
   "cell_type": "code",
   "execution_count": 4,
   "metadata": {},
   "outputs": [],
   "source": [
    "# DEscarga de datos de Worldpop por país\n",
    "\n",
    "import requests\n",
    "import pandas as pd\n",
    "import os\n",
    "\n",
    "# Sitio base\n",
    "site_d = \"https://hub.worldpop.org/rest/data/\"\n",
    "# Categorías\n",
    "cat_d  = [ \"age_structures\", \"births\" ]\n",
    "# Variables\n",
    "var_d  = [ [ \"wcba2015\", \"sapya1km\" ], [ \"bic\" ] ]\n",
    "\n",
    "# Variable a utilizar\n",
    "i = 1\n",
    "j = 0\n",
    "\n",
    "# Guardamos la lista de países\n",
    "URL_info = f\"{site_d}{cat_d[i]}/{var_d[i][j]}\"\n",
    "df = pd.DataFrame(requests.get(URL_info).json()[\"data\"])\n",
    "countries = df[\"iso3\"].values\n",
    "\n",
    "# Iteramos para cada país\n",
    "for c in countries:\n",
    "    path_f = f\"../temp/{var_d[i][j]}/{var_d[i][j]}_{c}.tif\"\n",
    "    # Solo si no se ha descargado ya\n",
    "    if not os.path.exists(path_f):\n",
    "        print(c)\n",
    "        # Sitio web del archivo\n",
    "        URL_file = pd.DataFrame( requests.get( f\"{URL_info}?iso3={c}\"\n",
    "            ).json()[\"data\"])[\"files\"].iloc[-1][0]\n",
    "        # Si no existe la carpeta la crea\n",
    "        if not os.path.exists(f\"../temp/{var_d[i][j]}/\"):\n",
    "            os.mkdir(f\"../temp/{var_d[i][j]}/\")\n",
    "        # Guardamos el archivo\n",
    "        with open(path_f, \"wb\") as f: f.write(requests.get(URL_file).content)"
   ]
  },
  {
   "cell_type": "code",
   "execution_count": 21,
   "metadata": {},
   "outputs": [
    {
     "name": "stdout",
     "output_type": "stream",
     "text": [
      "Antarctica                                       \n",
      " Not present in dataset\n",
      "Christmas Island                                                   \n",
      " Not present in dataset\n",
      "Cocos (Keeling) Islands                                   \n",
      " Not present in dataset\n",
      "Zimbabwe                                                                               \r"
     ]
    }
   ],
   "source": [
    "import os\n",
    "import pandas as pd\n",
    "import numpy as np\n",
    "import xarray as xr\n",
    "\n",
    "# Códigos nacionales\n",
    "ix  = \"ISO_A3\"\n",
    "\n",
    "# Tabla base\n",
    "iso = \"../../Bases_de_datos/Country_ISO_code.csv\"\n",
    "df_iso = pd.read_csv(iso).set_index(\"country-code\")\n",
    "df_iso.index.name = \"ISO_N3\"\n",
    "df_iso = df_iso.rename({\"alpha-3\": ix}, axis = 1)\n",
    "\n",
    "path = \"../../Bases_de_datos/WorldPop/global_level0_1km_2000_2020\"\n",
    "ds = xr.open_dataset(f\"{path}.tif\").isel(band = 0).drop_vars(\n",
    "    [\"band\", \"spatial_ref\"] ).rename_dims(\n",
    "    {\"x\": \"lon\", \"y\": \"lat\"} ).rename_vars(\n",
    "    {\"x\": \"lon\", \"y\": \"lat\"} )\n",
    "\n",
    "for row in df_iso.itertuples():\n",
    "    print(row.name, end = \"                                   \\r\")\n",
    "    ds_1 = ds.where(ds == row.Index, np.nan ).dropna(\n",
    "        dim = \"lat\", how = \"all\" ).dropna( dim = \"lon\", how = \"all\" )\n",
    "    if 0 in ( ds_1[\"lon\"].shape[0], ds_1[\"lat\"].shape[0] ):\n",
    "        print(\"\\n Not present in dataset\")\n",
    "    else:\n",
    "        ds_2 = ds.sel( { \"lon\": slice(ds_1[\"lon\"].values[0],\n",
    "            ds_1[\"lon\"].values[-1]),\n",
    "            \"lat\": slice(ds_1[\"lat\"].values[0],\n",
    "            ds_1[\"lat\"].values[-1]) } )\n",
    "        ds_2 = ds_2.where( ds_2 == row.Index, np.nan )\n",
    "        ds_2 = ds_2.where( ds_2.isnull(), 1 ).to_netcdf(\n",
    "            f\"{path}/{row.ISO_A3}.nc\" )"
   ]
  },
  {
   "cell_type": "code",
   "execution_count": 17,
   "metadata": {},
   "outputs": [
    {
     "name": "stdout",
     "output_type": "stream",
     "text": [
      "Zimbabwe                                   \r"
     ]
    }
   ],
   "source": [
    "c = 336\n",
    "print(row.name, end = \"                                   \\r\")\n",
    "ds_1 = ds.where(ds == c, np.nan ).dropna(\n",
    "    dim = \"y\", how = \"all\" ).dropna( dim = \"x\", how = \"all\" )\n",
    "if 0 in ( ds_1[\"x\"].shape[0], ds_1[\"y\"].shape[0] ):\n",
    "    print(\"\\n Not present in dataset\")\n",
    "else:\n",
    "    ds_2 = ds.sel( { \"x\": slice(ds_1[\"x\"].values[0], ds_1[\"x\"].values[-1]),\n",
    "        \"y\": slice(ds_1[\"y\"].values[0], ds_1[\"y\"].values[-1]) } )\n",
    "    ds_2 = ds_2.where( ds_2 == c, np.nan )\n",
    "    ds_2 = ds_2.where( ds_2.isnull(), 1 )"
   ]
  },
  {
   "cell_type": "code",
   "execution_count": 20,
   "metadata": {},
   "outputs": [],
   "source": [
    "ds_2.to_netcdf(\n",
    "            f\"{path}/VAT.nc\" )"
   ]
  },
  {
   "cell_type": "code",
   "execution_count": 14,
   "metadata": {},
   "outputs": [
    {
     "data": {
      "text/plain": [
       "(0, 0)"
      ]
     },
     "execution_count": 14,
     "metadata": {},
     "output_type": "execute_result"
    }
   ],
   "source": [
    "(  ds_1[\"x\"].shape[0], ds_1[\"y\"].shape[0] )"
   ]
  },
  {
   "cell_type": "code",
   "execution_count": 5,
   "metadata": {},
   "outputs": [
    {
     "data": {
      "text/plain": [
       "0"
      ]
     },
     "execution_count": 5,
     "metadata": {},
     "output_type": "execute_result"
    }
   ],
   "source": [
    "ds_1[\"x\"].shape[0]"
   ]
  }
 ],
 "metadata": {
  "kernelspec": {
   "display_name": "xarray",
   "language": "python",
   "name": "python3"
  },
  "language_info": {
   "codemirror_mode": {
    "name": "ipython",
    "version": 3
   },
   "file_extension": ".py",
   "mimetype": "text/x-python",
   "name": "python",
   "nbconvert_exporter": "python",
   "pygments_lexer": "ipython3",
   "version": "3.12.2"
  }
 },
 "nbformat": 4,
 "nbformat_minor": 2
}
